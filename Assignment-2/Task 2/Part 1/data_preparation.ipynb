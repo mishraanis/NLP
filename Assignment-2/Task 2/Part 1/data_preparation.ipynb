{
 "cells": [
  {
   "cell_type": "code",
   "execution_count": null,
   "metadata": {},
   "outputs": [],
   "source": [
    "import json\n",
    "import random"
   ]
  },
  {
   "cell_type": "code",
   "execution_count": null,
   "metadata": {},
   "outputs": [],
   "source": [
    "train_data = json.load(open('../Dataset/Laptop_Review_Train.json'))\n",
    "val_data = json.load(open('../Dataset/Laptop_Review_Val.json'))\n",
    "test_data = json.load(open('../Dataset/Laptop_Review_Test.json'))"
   ]
  },
  {
   "cell_type": "code",
   "execution_count": null,
   "metadata": {},
   "outputs": [],
   "source": [
    "def bio_chunking(data):\n",
    "    bio_data = {}\n",
    "\n",
    "    for idx, sentence in enumerate(data, start=1):\n",
    "        words = sentence['words']\n",
    "        raw_text = sentence['raw_words']\n",
    "        aspects = sentence['aspects']\n",
    "        opinions = sentence['opinions']\n",
    "\n",
    "        # Initialize BIO labels for each token as 'O' (Outside)\n",
    "        bio_labels = ['O'] * len(words)\n",
    "\n",
    "        # Mark aspect terms with BIO labels\n",
    "        for aspect in aspects:\n",
    "            bio_labels[aspect['from']] = 'B'  # Beginning of aspect term\n",
    "            for i in range(aspect['from'] + 1, aspect['to']):\n",
    "                bio_labels[i] = 'I'  # Intermediate of aspect term\n",
    "\n",
    "        # Mark opinion terms with BIO labels (if not overlapping with aspects)\n",
    "        for opinion in opinions:\n",
    "            if bio_labels[opinion['from']] == 'O':  # Check if not overlapping with aspect\n",
    "                bio_labels[opinion['from']] = 'B'  # Beginning of opinion term\n",
    "                for i in range(opinion['from'] + 1, opinion['to']):\n",
    "                    if bio_labels[i] == 'O':  # Check if not overlapping with aspect\n",
    "                        bio_labels[i] = 'I'  # Intermediate of opinion term\n",
    "\n",
    "        # Add the sentence and its labels to the output dictionary\n",
    "        bio_data[str(idx)] = {\"text\": raw_text, \"labels\": bio_labels}\n",
    "\n",
    "    return bio_data"
   ]
  },
  {
   "cell_type": "code",
   "execution_count": null,
   "metadata": {},
   "outputs": [],
   "source": [
    "json.dump(bio_chunking(train_data), open('../Dataset/BIO_Tagged/ATE_train.json', 'w'))\n",
    "json.dump(bio_chunking(val_data), open('../Dataset/BIO_Tagged/ATE_val.json', 'w'))\n",
    "json.dump(bio_chunking(test_data), open('../Dataset/BIO_Tagged/ATE_test.json', 'w'))"
   ]
  }
 ],
 "metadata": {
  "kernelspec": {
   "display_name": "Python 3",
   "language": "python",
   "name": "python3"
  },
  "language_info": {
   "codemirror_mode": {
    "name": "ipython",
    "version": 3
   },
   "file_extension": ".py",
   "mimetype": "text/x-python",
   "name": "python",
   "nbconvert_exporter": "python",
   "pygments_lexer": "ipython3",
   "version": "3.10.2"
  }
 },
 "nbformat": 4,
 "nbformat_minor": 2
}
