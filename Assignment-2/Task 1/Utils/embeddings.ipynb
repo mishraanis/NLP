{
 "cells": [
  {
   "cell_type": "code",
   "execution_count": 2,
   "metadata": {},
   "outputs": [],
   "source": [
    "from transformers import BertTokenizer, BertModel\n",
    "import json\n",
    "import pickle\n",
    "import numpy as np\n",
    "from gensim.models import KeyedVectors"
   ]
  },
  {
   "cell_type": "code",
   "execution_count": 3,
   "metadata": {},
   "outputs": [],
   "source": [
    "word_to_idx = pickle.load(open('word_to_idx.pkl', 'rb'))\n",
    "tag_to_idx = pickle.load(open('tag_to_ix.pkl', 'rb'))"
   ]
  },
  {
   "cell_type": "code",
   "execution_count": 5,
   "metadata": {},
   "outputs": [],
   "source": [
    "train_data = json.load(open('../Dataset/NER_train.json', 'r'))\n",
    "test_data = json.load(open('../Dataset/NER_test.json', 'r'))\n",
    "val_data = json.load(open('../Dataset/NER_val.json', 'r'))"
   ]
  },
  {
   "cell_type": "code",
   "execution_count": 6,
   "metadata": {},
   "outputs": [],
   "source": [
    "# tokenizer = BertTokenizer.from_pretrained('nlpaueb/legal-bert-base-uncased')\n",
    "# bert_model = BertModel.from_pretrained('nlpaueb/legal-bert-base-uncased')"
   ]
  },
  {
   "cell_type": "code",
   "execution_count": 7,
   "metadata": {},
   "outputs": [],
   "source": [
    "# embedding_mat = np.zeros((len(word_to_idx), 768))\n",
    "\n",
    "# for word, idx in tqdm(word_to_idx.items()):\n",
    "#     # if word in tokenizer.vocab:\n",
    "#     #     embedding_mat[idx] = bert_model(tokenizer.encode(word))[1].detach().numpy()\n",
    "#     # else:\n",
    "#     #     embedding_mat[idx] = np.random.rand(768)\n",
    "#     try:\n",
    "#         tokens = tokenizer.batch_encode_plus([word], return_tensors='pt', add_special_tokens=False)\n",
    "#     except:\n",
    "#         tokens = tokenizer.batch_encode_plus(['unk'], return_tensors='pt', add_special_tokens=False)\n",
    "#         continue\n",
    "#     embeddings = None\n",
    "#     with torch.no_grad():\n",
    "#         # outputs = bert_model(**tokens)\n",
    "#         # embeddings = outputs.last_hidden_state\n",
    "#         try:\n",
    "#             outputs = bert_model(**tokens)\n",
    "#             embeddings = outputs.last_hidden_state\n",
    "#         except:\n",
    "#             tokens = tokenizer.batch_encode_plus(['unk'], return_tensors='pt', add_special_tokens=False)\n",
    "#             outputs = bert_model(**tokens)\n",
    "#             embeddings = outputs.last_hidden_state\n",
    "#     embeddings = embeddings.squeeze(0)\n",
    "#     word_embeddings = embeddings.mean(dim = 0)\n",
    "#     embedding_mat[idx] = word_embeddings.squeeze(0).numpy()"
   ]
  },
  {
   "cell_type": "code",
   "execution_count": 11,
   "metadata": {},
   "outputs": [],
   "source": [
    "# word2vec embeddings\n",
    "model = KeyedVectors.load_word2vec_format('GoogleNews-vectors-negative300.bin', binary=True)"
   ]
  },
  {
   "cell_type": "code",
   "execution_count": 13,
   "metadata": {},
   "outputs": [],
   "source": [
    "with open('word2vec_embeddings.pkl', 'wb') as f:\n",
    "    pickle.dump(model, f)"
   ]
  },
  {
   "cell_type": "code",
   "execution_count": 14,
   "metadata": {},
   "outputs": [],
   "source": [
    "word2vec_embeddings = pickle.load(open('word2vec_embeddings.pkl', 'rb'))"
   ]
  },
  {
   "cell_type": "code",
   "execution_count": 30,
   "metadata": {},
   "outputs": [
    {
     "ename": "",
     "evalue": "",
     "output_type": "error",
     "traceback": [
      "\u001b[1;31mThe Kernel crashed while executing code in the current cell or a previous cell. \n",
      "\u001b[1;31mPlease review the code in the cell(s) to identify a possible cause of the failure. \n",
      "\u001b[1;31mClick <a href='https://aka.ms/vscodeJupyterKernelCrash'>here</a> for more info. \n",
      "\u001b[1;31mView Jupyter <a href='command:jupyter.viewOutput'>log</a> for further details."
     ]
    }
   ],
   "source": [
    "#get word2vec embeddings from this model\n",
    "embedding_mat = np.zeros((len(word_to_idx), 300))\n",
    "for word, idx in word_to_idx.items():\n",
    "    if word in word2vec_embeddings:\n",
    "        embedding_mat[idx] = word2vec_embeddings[word]\n",
    "    else:\n",
    "        embedding_mat[idx] = np.random.rand(300)\n",
    "\n",
    "with open('word2vec_embedding_mat.pkl', 'wb') as f:\n",
    "    pickle.dump(embedding_mat, f)"
   ]
  },
  {
   "cell_type": "code",
   "execution_count": 4,
   "metadata": {},
   "outputs": [],
   "source": [
    "glove_embeddings = pickle.load(open('glove.pkl', 'rb')) "
   ]
  },
  {
   "cell_type": "code",
   "execution_count": 7,
   "metadata": {},
   "outputs": [],
   "source": [
    "embedding_mat = np.zeros((len(word_to_idx), 300))\n",
    "for word, idx in word_to_idx.items():\n",
    "    if word in glove_embeddings:\n",
    "        embedding_mat[idx] = glove_embeddings[word]\n",
    "    else:\n",
    "        embedding_mat[idx] = np.random.rand(300)\n",
    "\n",
    "with open('glove_embedding_mat.pkl', 'wb') as f:\n",
    "    pickle.dump(embedding_mat, f)"
   ]
  },
  {
   "cell_type": "code",
   "execution_count": null,
   "metadata": {},
   "outputs": [],
   "source": []
  }
 ],
 "metadata": {
  "kernelspec": {
   "display_name": "Python 3",
   "language": "python",
   "name": "python3"
  },
  "language_info": {
   "codemirror_mode": {
    "name": "ipython",
    "version": 3
   },
   "file_extension": ".py",
   "mimetype": "text/x-python",
   "name": "python",
   "nbconvert_exporter": "python",
   "pygments_lexer": "ipython3",
   "version": "3.11.8"
  }
 },
 "nbformat": 4,
 "nbformat_minor": 2
}
