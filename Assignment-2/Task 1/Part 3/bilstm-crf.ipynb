{
 "cells": [
  {
   "cell_type": "code",
   "execution_count": 1,
   "metadata": {},
   "outputs": [
    {
     "data": {
      "text/plain": [
       "<torch._C.Generator at 0x2bf49de8c30>"
      ]
     },
     "execution_count": 1,
     "metadata": {},
     "output_type": "execute_result"
    }
   ],
   "source": [
    "import torch\n",
    "import torch.autograd as autograd\n",
    "import torch.nn as nn\n",
    "import torch.optim as optim\n",
    "import random\n",
    "from transformers import BertTokenizer, BertModel\n",
    "import json\n",
    "import numpy as np\n",
    "from tqdm import tqdm\n",
    "import pickle\n",
    "from sklearn.metrics import f1_score\n",
    "import matplotlib.pyplot as plt\n",
    "torch.manual_seed(1)"
   ]
  },
  {
   "cell_type": "code",
   "execution_count": 2,
   "metadata": {},
   "outputs": [],
   "source": [
    "device = \"cpu\""
   ]
  },
  {
   "cell_type": "code",
   "execution_count": 3,
   "metadata": {},
   "outputs": [],
   "source": [
    "#check if cuda is available\n",
    "# device = torch.device(\"cuda\" if torch.cuda.is_available() else \"cpu\")\n",
    "# print(device)"
   ]
  },
  {
   "cell_type": "code",
   "execution_count": 4,
   "metadata": {},
   "outputs": [],
   "source": [
    "def argmax(vec):\n",
    "    # return the argmax as a python int\n",
    "    _, idx = torch.max(vec, 1)\n",
    "    return idx.item()\n",
    "\n",
    "def prepare_sequence(seq, to_ix):\n",
    "    idxs = [to_ix[w] for w in seq]\n",
    "    return torch.tensor(idxs, dtype=torch.long)"
   ]
  },
  {
   "cell_type": "markdown",
   "metadata": {},
   "source": [
    "#### BiLSTM CRF model"
   ]
  },
  {
   "cell_type": "code",
   "execution_count": 5,
   "metadata": {},
   "outputs": [],
   "source": [
    "class BiLSTM_CRF(nn.Module):\n",
    "\n",
    "    def __init__(self, vocab_size, embedding_dim, hidden_dim, target_size, embedding_mat, start_tag, end_tag, tag_to_ix, batch_size=1, device='cpu'):\n",
    "        super(BiLSTM_CRF, self).__init__()\n",
    "        self.embedding_dim = embedding_dim\n",
    "        self.hidden_dim = hidden_dim\n",
    "        self.vocab_size = vocab_size\n",
    "        self.target_size = target_size\n",
    "        self.batch_size = batch_size\n",
    "        self.device = device\n",
    "        self.tag_to_ix = tag_to_ix\n",
    "        self.start_tag = start_tag\n",
    "        self.end_tag = end_tag\n",
    "\n",
    "        self.embedding = nn.Embedding.from_pretrained(embedding_mat).to(device)\n",
    "        self.lstm = nn.LSTM(embedding_dim, hidden_dim // 2,\n",
    "                            num_layers=1, bidirectional=True).to(device)\n",
    "        self.hidden2tag = nn.Linear(hidden_dim, target_size).to(device)\n",
    "\n",
    "        self.transitions_to = nn.Parameter(torch.randn(target_size, target_size)).to(device)\n",
    "        self.transitions_to.data[start_tag, :] = -10000\n",
    "        self.transitions_to.data[:, end_tag] = -10000\n",
    "\n",
    "        # self.transitions_from = nn.Parameter(torch.randn(target_size, target_size))\n",
    "        # self.transitions_from.data[:, start_tag] = -10000\n",
    "        # self.transitions_from.data[end_tag, :] = -10000\n",
    "\n",
    "        self.hidden = self.init_hidden()\n",
    "        \n",
    "    def init_hidden(self):\n",
    "        return (torch.randn(2, 1, self.hidden_dim // 2).to(self.device),\n",
    "                torch.randn(2, 1, self.hidden_dim // 2).to(self.device))\n",
    "\n",
    "    def get_lstm_features(self, sentence):\n",
    "        self.hidden = self.init_hidden()\n",
    "        embeds = self.embedding(sentence).view(len(sentence), 1, -1)\n",
    "        #convert embeds to torch float32\n",
    "        embeds = embeds.float()\n",
    "        lstm_out, self.hidden = self.lstm(embeds, self.hidden)\n",
    "        lstm_out = lstm_out.view(len(sentence), self.hidden_dim)\n",
    "        lstm_feats = self.hidden2tag(lstm_out)\n",
    "        return lstm_feats\n",
    "\n",
    "\n",
    "    def _forward_algo(self, lstm_features):\n",
    "\n",
    "        scores = torch.full((1, self.target_size), -10000.).to(self.device)\n",
    "        scores[0][self.start_tag] = 0.\n",
    "\n",
    "        forward_var = scores\n",
    "\n",
    "        for feat in lstm_features:\n",
    "            next_tag_var = self.transitions_to + feat.view(-1, 1).expand(-1, self.target_size) + forward_var.expand(self.target_size, -1)\n",
    "            max_score = next_tag_var.max(dim=1).values.view(-1, 1)\n",
    "            next_tag_var = next_tag_var - max_score\n",
    "            forward_var = (max_score + torch.logsumexp(next_tag_var, dim=1).view(-1, 1)).view(1, -1)\n",
    "            \n",
    "        terminal_var = forward_var + (self.transitions_to[self.end_tag]).view(1, -1)\n",
    "        alpha = terminal_var\n",
    "        max_score = alpha.max()\n",
    "        alpha = max_score + torch.logsumexp(alpha - max_score, dim=1)\n",
    "        return alpha\n",
    "    \n",
    "\n",
    "    def _score_sentence(self, lstm_features, tags):\n",
    "        score = torch.zeros(1).to(self.device)\n",
    "        tags = torch.cat([torch.tensor([self.tag_to_ix['START_TAG']], dtype=torch.long).to(self.device), tags]).to(self.device)\n",
    "        for i, feat in enumerate(lstm_features):\n",
    "            score += self.transitions_to[tags[i + 1], tags[i]] + feat[tags[i + 1]]\n",
    "                \n",
    "        score += self.transitions_to[self.tag_to_ix['END_TAG'], tags[-1]]\n",
    "        return score\n",
    "    \n",
    "    def neg_log_likelihood(self, sentence, tags):\n",
    "        lstm_feats = self.get_lstm_features(sentence)\n",
    "        forward_score = self._forward_algo(lstm_feats)\n",
    "        gold_score = self._score_sentence(lstm_feats, tags)\n",
    "        return forward_score - gold_score\n",
    "    \n",
    "\n",
    "    def _viterbi_decode(self, feats):\n",
    "        backpointers = []\n",
    "\n",
    "        # Initialize the viterbi variables in log space\n",
    "        init_vvars = torch.full((1, self.target_size), -10000.).to(self.device)\n",
    "        init_vvars[0][self.start_tag] = 0\n",
    "\n",
    "        forward_var = init_vvars\n",
    "        for feat in feats:\n",
    "            bptrs_t = [] \n",
    "            viterbivars_t = [] \n",
    "\n",
    "            next_tag_var = self.transitions_to + forward_var.expand(self.target_size, -1)\n",
    "            best_tag_id = torch.argmax(next_tag_var, dim=1)\n",
    "            bptrs_t = best_tag_id\n",
    "            viterbivars_t = next_tag_var[range(len(best_tag_id)), best_tag_id].view(1, -1)\n",
    "            \n",
    "            forward_var = (viterbivars_t + feat).view(1, -1)\n",
    "            backpointers.append(bptrs_t)\n",
    "\n",
    "        \n",
    "        terminal_var = forward_var + self.transitions_to[self.end_tag]\n",
    "        best_tag_id = argmax(terminal_var)\n",
    "        path_score = terminal_var[0][best_tag_id]\n",
    "\n",
    "       \n",
    "        best_path = [best_tag_id]\n",
    "        for bptrs_t in reversed(backpointers):\n",
    "            best_tag_id = bptrs_t[best_tag_id]\n",
    "            best_path.append(best_tag_id.item())\n",
    "        \n",
    "        start = best_path.pop()\n",
    "        best_path.reverse()\n",
    "        return path_score, best_path\n",
    "        \n",
    "    def forward(self, sentence):  # dont confuse this with _forward_alg above.\n",
    "        # Get the emission scores from the BiLSTM\n",
    "        lstm_feats = self.get_lstm_features(sentence)\n",
    "\n",
    "        # Find the best path, given the features.\n",
    "        score, tag_seq = self._viterbi_decode(lstm_feats)\n",
    "        return score, tag_seq\n",
    "\n",
    "        "
   ]
  },
  {
   "cell_type": "code",
   "execution_count": 6,
   "metadata": {},
   "outputs": [],
   "source": [
    "train_data = json.load(open('../Dataset/NER_train.json', 'r'))\n",
    "test_data = json.load(open('../Dataset/NER_test.json', 'r'))\n",
    "val_data = json.load(open('../Dataset/NER_val.json', 'r'))"
   ]
  },
  {
   "cell_type": "code",
   "execution_count": 7,
   "metadata": {},
   "outputs": [],
   "source": [
    "word_to_idx = pickle.load(open('../Utils/word_to_idx.pkl', 'rb'))"
   ]
  },
  {
   "cell_type": "code",
   "execution_count": 8,
   "metadata": {},
   "outputs": [],
   "source": [
    "tag_to_ix = pickle.load(open('../Utils/tag_to_ix.pkl', 'rb'))"
   ]
  },
  {
   "cell_type": "markdown",
   "metadata": {},
   "source": [
    "#### Embeddings"
   ]
  },
  {
   "cell_type": "code",
   "execution_count": 9,
   "metadata": {},
   "outputs": [],
   "source": [
    "bert_embedding_mat = pickle.load(open('../Utils/legal_bert_embedding_mat.pkl', 'rb'))\n",
    "word2vec_embedding_mat = pickle.load(open('../Utils/word2vec_embedding_mat.pkl', 'rb'))\n",
    "glove_embedding_mat = pickle.load(open('../Utils/glove_embedding_mat.pkl', 'rb'))"
   ]
  },
  {
   "cell_type": "markdown",
   "metadata": {},
   "source": [
    "#### Glove"
   ]
  },
  {
   "cell_type": "code",
   "execution_count": 10,
   "metadata": {},
   "outputs": [
    {
     "name": "stderr",
     "output_type": "stream",
     "text": [
      "Epoch 1/10: 8019it [03:59, 33.50it/s], ?it/s]\n",
      "Epoch:  10%|█         | 1/10 [04:21<39:11, 261.33s/it]"
     ]
    },
    {
     "name": "stdout",
     "output_type": "stream",
     "text": [
      "\n",
      "Train loss: tensor([0.0010], grad_fn=<DivBackward0>), Val loss: tensor([0.0001])\n",
      "Train macro f1: 0.6223706657916688, Val macro f1: 0.6219102188577124\n",
      "Epoch 1/10 done\n"
     ]
    },
    {
     "name": "stderr",
     "output_type": "stream",
     "text": [
      "Epoch 2/10: 8019it [04:30, 29.66it/s]\n",
      "Epoch:  20%|██        | 2/10 [09:13<37:16, 279.55s/it]"
     ]
    },
    {
     "name": "stdout",
     "output_type": "stream",
     "text": [
      "\n",
      "Train loss: tensor([0.0009], grad_fn=<DivBackward0>), Val loss: tensor([0.0002])\n",
      "Train macro f1: 0.7304485119517065, Val macro f1: 0.6437258395055443\n",
      "Epoch 2/10 done\n"
     ]
    },
    {
     "name": "stderr",
     "output_type": "stream",
     "text": [
      "Epoch 3/10: 8019it [04:40, 28.60it/s]\n",
      "Epoch:  30%|███       | 3/10 [14:15<33:49, 289.87s/it]"
     ]
    },
    {
     "name": "stdout",
     "output_type": "stream",
     "text": [
      "\n",
      "Train loss: tensor([0.0008], grad_fn=<DivBackward0>), Val loss: tensor([0.0001])\n",
      "Train macro f1: 0.7569138130447888, Val macro f1: 0.6686731325338765\n",
      "Epoch 3/10 done\n"
     ]
    },
    {
     "name": "stderr",
     "output_type": "stream",
     "text": [
      "Epoch 4/10: 8019it [04:01, 33.22it/s]\n",
      "Epoch:  40%|████      | 4/10 [18:38<27:54, 279.07s/it]"
     ]
    },
    {
     "name": "stdout",
     "output_type": "stream",
     "text": [
      "\n",
      "Train loss: tensor([0.0007], grad_fn=<DivBackward0>), Val loss: tensor([0.0001])\n",
      "Train macro f1: 0.7746699537839382, Val macro f1: 0.678551753758334\n",
      "Epoch 4/10 done\n"
     ]
    },
    {
     "name": "stderr",
     "output_type": "stream",
     "text": [
      "Epoch 5/10: 8019it [03:55, 34.09it/s]\n",
      "Epoch:  50%|█████     | 5/10 [22:53<22:32, 270.58s/it]"
     ]
    },
    {
     "name": "stdout",
     "output_type": "stream",
     "text": [
      "\n",
      "Train loss: tensor([0.0006], grad_fn=<DivBackward0>), Val loss: tensor([9.6467e-05])\n",
      "Train macro f1: 0.7955027474170804, Val macro f1: 0.6940457833320258\n",
      "Epoch 5/10 done\n"
     ]
    },
    {
     "name": "stderr",
     "output_type": "stream",
     "text": [
      "Epoch 6/10: 8019it [04:23, 30.47it/s]\n",
      "Epoch:  60%|██████    | 6/10 [27:40<18:24, 276.16s/it]"
     ]
    },
    {
     "name": "stdout",
     "output_type": "stream",
     "text": [
      "\n",
      "Train loss: tensor([0.0007], grad_fn=<DivBackward0>), Val loss: tensor([9.5173e-05])\n",
      "Train macro f1: 0.8188999970928809, Val macro f1: 0.7063869854634937\n",
      "Epoch 6/10 done\n"
     ]
    },
    {
     "name": "stderr",
     "output_type": "stream",
     "text": [
      "Epoch 7/10: 8019it [04:21, 30.63it/s]\n",
      "Epoch:  70%|███████   | 7/10 [32:24<13:55, 278.64s/it]"
     ]
    },
    {
     "name": "stdout",
     "output_type": "stream",
     "text": [
      "\n",
      "Train loss: tensor([0.0008], grad_fn=<DivBackward0>), Val loss: tensor([5.3621e-05])\n",
      "Train macro f1: 0.8383587587978142, Val macro f1: 0.7142234201688498\n",
      "Epoch 7/10 done\n"
     ]
    },
    {
     "name": "stderr",
     "output_type": "stream",
     "text": [
      "Epoch 8/10: 8019it [04:14, 31.53it/s]\n",
      "Epoch:  80%|████████  | 8/10 [37:00<09:15, 277.69s/it]"
     ]
    },
    {
     "name": "stdout",
     "output_type": "stream",
     "text": [
      "\n",
      "Train loss: tensor([0.0004], grad_fn=<DivBackward0>), Val loss: tensor([5.2673e-05])\n",
      "Train macro f1: 0.8502796374504084, Val macro f1: 0.7169311534093714\n",
      "Epoch 8/10 done\n"
     ]
    },
    {
     "name": "stderr",
     "output_type": "stream",
     "text": [
      "Epoch 9/10: 8019it [03:57, 33.74it/s]\n",
      "Epoch:  90%|█████████ | 9/10 [41:18<04:31, 271.52s/it]"
     ]
    },
    {
     "name": "stdout",
     "output_type": "stream",
     "text": [
      "\n",
      "Train loss: tensor([0.0004], grad_fn=<DivBackward0>), Val loss: tensor([4.3794e-05])\n",
      "Train macro f1: 0.8630642782199636, Val macro f1: 0.7271783146880129\n",
      "Epoch 9/10 done\n"
     ]
    },
    {
     "name": "stderr",
     "output_type": "stream",
     "text": [
      "Epoch 10/10: 8019it [03:58, 33.57it/s]\n",
      "Epoch: 100%|██████████| 10/10 [45:37<00:00, 273.71s/it]"
     ]
    },
    {
     "name": "stdout",
     "output_type": "stream",
     "text": [
      "\n",
      "Train loss: tensor([0.0004], grad_fn=<DivBackward0>), Val loss: tensor([5.0604e-05])\n",
      "Train macro f1: 0.8679464288931314, Val macro f1: 0.7179774108566435\n",
      "Epoch 10/10 done\n"
     ]
    },
    {
     "name": "stderr",
     "output_type": "stream",
     "text": [
      "\n"
     ]
    }
   ],
   "source": [
    "model = BiLSTM_CRF(len(word_to_idx), 300, 256, len(tag_to_ix), torch.tensor(glove_embedding_mat).to(device), tag_to_ix['START_TAG'], tag_to_ix['END_TAG'], tag_to_ix, device=device).to(device)\n",
    "optimizer = optim.SGD(model.parameters(), lr=0.01, weight_decay=1e-4)\n",
    "\n",
    "EPOCHS = 10\n",
    "train_loss = []\n",
    "val_loss = []\n",
    "train_macro_f1 = []\n",
    "val_macro_f1 = []\n",
    "\n",
    "for epoch in tqdm(range(EPOCHS), desc='Epoch'):\n",
    "    loss = 0\n",
    "    preds = []\n",
    "    actuals = []\n",
    "    for i, case in tqdm(enumerate(train_data), desc=f'Epoch {epoch + 1}/{EPOCHS}'):\n",
    "        sentence = prepare_sequence(train_data[case]['text'].split(' '), word_to_idx)\n",
    "        tags = prepare_sequence(train_data[case]['labels'], tag_to_ix)\n",
    "        sentence = sentence.to(device)\n",
    "        tags = tags.to(device)\n",
    "        model.train(True)\n",
    "        model.zero_grad()\n",
    "        loss = model.neg_log_likelihood(sentence, tags)\n",
    "        loss.backward()\n",
    "        optimizer.step()\n",
    "        loss += loss.item()\n",
    "        with torch.no_grad():\n",
    "            pred = model(sentence)[1]\n",
    "            tags = tags.cpu().numpy()\n",
    "            preds.extend(pred)\n",
    "            actuals.extend(tags)\n",
    "            \n",
    "    \n",
    "    train_loss.append(loss/len(train_data))\n",
    "    f1 = f1_score(actuals, preds, average='macro')\n",
    "    train_macro_f1.append(f1)\n",
    "    \n",
    "    model.eval()\n",
    "    with torch.no_grad():\n",
    "        loss = 0\n",
    "        preds = []\n",
    "        actuals = []\n",
    "        for case in val_data:\n",
    "            sentence = prepare_sequence(val_data[case]['text'].split(' '), word_to_idx)\n",
    "            tags = prepare_sequence(val_data[case]['labels'], tag_to_ix)\n",
    "            setence = sentence.to(device)\n",
    "            tags = tags.to(device)\n",
    "            loss = model.neg_log_likelihood(sentence, tags)\n",
    "            loss += loss.item()\n",
    "            pred = model(sentence)[1]\n",
    "            preds.extend(pred)\n",
    "            actuals.extend(tags.cpu().numpy())\n",
    "        f1 = f1_score(actuals, preds, average='macro')\n",
    "        val_macro_f1.append(f1)\n",
    "        val_loss.append(loss/len(val_data))\n",
    "\n",
    "    print()\n",
    "    print(f'Train loss: {train_loss[-1]}, Val loss: {val_loss[-1]}')\n",
    "    print(f'Train macro f1: {train_macro_f1[-1]}, Val macro f1: {val_macro_f1[-1]}')\n",
    "    print(f'Epoch {epoch + 1}/{EPOCHS} done')"
   ]
  },
  {
   "cell_type": "code",
   "execution_count": 11,
   "metadata": {},
   "outputs": [],
   "source": [
    "torch.save(model, 'Non Trainable Embeddings/Glove/bilstm_crf_glove.pt')\n",
    "torch.save(model, '../../Deliverables/Task1/Saved Models/t1_BiLSTM-CRF_Glove.pt')\n",
    "pickle.dump(train_loss, open('Non Trainable Embeddings/Glove/train_loss.pkl', 'wb'))\n",
    "pickle.dump(val_loss, open('Non Trainable Embeddings/Glove/val_loss.pkl', 'wb'))\n",
    "pickle.dump(train_macro_f1, open('Non Trainable Embeddings/Glove/train_f1.pkl', 'wb'))\n",
    "pickle.dump(val_macro_f1, open('Non Trainable Embeddings/Glove/val_f1.pkl', 'wb'))"
   ]
  },
  {
   "cell_type": "markdown",
   "metadata": {},
   "source": [
    "#### Word2vec"
   ]
  },
  {
   "cell_type": "code",
   "execution_count": 12,
   "metadata": {},
   "outputs": [
    {
     "name": "stderr",
     "output_type": "stream",
     "text": [
      "Epoch 1/10: 8019it [04:11, 31.94it/s], ?it/s]\n",
      "Epoch:  10%|█         | 1/10 [04:31<40:42, 271.35s/it]"
     ]
    },
    {
     "name": "stdout",
     "output_type": "stream",
     "text": [
      "\n",
      "Train loss: tensor([0.0007], grad_fn=<DivBackward0>), Val loss: tensor([0.0002])\n",
      "Train macro f1: 0.6533760847743012, Val macro f1: 0.6701686498763216\n",
      "Epoch 1/10 done\n"
     ]
    },
    {
     "name": "stderr",
     "output_type": "stream",
     "text": [
      "Epoch 2/10: 8019it [04:14, 31.54it/s]\n",
      "Epoch:  20%|██        | 2/10 [09:10<36:49, 276.16s/it]"
     ]
    },
    {
     "name": "stdout",
     "output_type": "stream",
     "text": [
      "\n",
      "Train loss: tensor([0.0006], grad_fn=<DivBackward0>), Val loss: tensor([0.0001])\n",
      "Train macro f1: 0.7704094026090639, Val macro f1: 0.7017845391735531\n",
      "Epoch 2/10 done\n"
     ]
    },
    {
     "name": "stderr",
     "output_type": "stream",
     "text": [
      "Epoch 3/10: 8019it [04:29, 29.75it/s]\n",
      "Epoch:  30%|███       | 3/10 [14:02<33:02, 283.15s/it]"
     ]
    },
    {
     "name": "stdout",
     "output_type": "stream",
     "text": [
      "\n",
      "Train loss: tensor([0.0004], grad_fn=<DivBackward0>), Val loss: tensor([0.0001])\n",
      "Train macro f1: 0.8095968863614804, Val macro f1: 0.7213136041058851\n",
      "Epoch 3/10 done\n"
     ]
    },
    {
     "name": "stderr",
     "output_type": "stream",
     "text": [
      "Epoch 4/10: 8019it [04:17, 31.13it/s]\n",
      "Epoch:  40%|████      | 4/10 [18:42<28:10, 281.78s/it]"
     ]
    },
    {
     "name": "stdout",
     "output_type": "stream",
     "text": [
      "\n",
      "Train loss: tensor([0.0004], grad_fn=<DivBackward0>), Val loss: tensor([7.6553e-05])\n",
      "Train macro f1: 0.8339247866217678, Val macro f1: 0.7472093623628019\n",
      "Epoch 4/10 done\n"
     ]
    },
    {
     "name": "stderr",
     "output_type": "stream",
     "text": [
      "Epoch 5/10: 8019it [04:17, 31.17it/s]\n",
      "Epoch:  50%|█████     | 5/10 [23:21<23:24, 280.85s/it]"
     ]
    },
    {
     "name": "stdout",
     "output_type": "stream",
     "text": [
      "\n",
      "Train loss: tensor([0.0004], grad_fn=<DivBackward0>), Val loss: tensor([6.8492e-05])\n",
      "Train macro f1: 0.8517268488109381, Val macro f1: 0.7464070801819662\n",
      "Epoch 5/10 done\n"
     ]
    },
    {
     "name": "stderr",
     "output_type": "stream",
     "text": [
      "Epoch 6/10: 8019it [04:17, 31.14it/s]\n",
      "Epoch:  60%|██████    | 6/10 [28:00<18:41, 280.25s/it]"
     ]
    },
    {
     "name": "stdout",
     "output_type": "stream",
     "text": [
      "\n",
      "Train loss: tensor([0.0003], grad_fn=<DivBackward0>), Val loss: tensor([7.1682e-05])\n",
      "Train macro f1: 0.8675505912348058, Val macro f1: 0.7579172808637671\n",
      "Epoch 6/10 done\n"
     ]
    },
    {
     "name": "stderr",
     "output_type": "stream",
     "text": [
      "Epoch 7/10: 8019it [04:01, 33.17it/s]\n",
      "Epoch:  70%|███████   | 7/10 [32:22<13:42, 274.33s/it]"
     ]
    },
    {
     "name": "stdout",
     "output_type": "stream",
     "text": [
      "\n",
      "Train loss: tensor([0.0003], grad_fn=<DivBackward0>), Val loss: tensor([4.3535e-05])\n",
      "Train macro f1: 0.8824974950056014, Val macro f1: 0.7713171888487179\n",
      "Epoch 7/10 done\n"
     ]
    },
    {
     "name": "stderr",
     "output_type": "stream",
     "text": [
      "Epoch 8/10: 8019it [03:55, 34.04it/s]\n",
      "Epoch:  80%|████████  | 8/10 [36:38<08:57, 268.53s/it]"
     ]
    },
    {
     "name": "stdout",
     "output_type": "stream",
     "text": [
      "\n",
      "Train loss: tensor([0.0003], grad_fn=<DivBackward0>), Val loss: tensor([4.0690e-05])\n",
      "Train macro f1: 0.9029656757712058, Val macro f1: 0.7743942158443181\n",
      "Epoch 8/10 done\n"
     ]
    },
    {
     "name": "stderr",
     "output_type": "stream",
     "text": [
      "Epoch 9/10: 8019it [04:16, 31.30it/s]\n",
      "Epoch:  90%|█████████ | 9/10 [41:15<04:31, 271.09s/it]"
     ]
    },
    {
     "name": "stdout",
     "output_type": "stream",
     "text": [
      "\n",
      "Train loss: tensor([0.0003], grad_fn=<DivBackward0>), Val loss: tensor([2.3190e-05])\n",
      "Train macro f1: 0.9127600002755648, Val macro f1: 0.7794436425038735\n",
      "Epoch 9/10 done\n"
     ]
    },
    {
     "name": "stderr",
     "output_type": "stream",
     "text": [
      "Epoch 10/10: 8019it [04:06, 32.55it/s]\n",
      "Epoch: 100%|██████████| 10/10 [45:44<00:00, 274.43s/it]"
     ]
    },
    {
     "name": "stdout",
     "output_type": "stream",
     "text": [
      "\n",
      "Train loss: tensor([0.0004], grad_fn=<DivBackward0>), Val loss: tensor([2.4397e-05])\n",
      "Train macro f1: 0.9271674339939306, Val macro f1: 0.7799749288877984\n",
      "Epoch 10/10 done\n"
     ]
    },
    {
     "name": "stderr",
     "output_type": "stream",
     "text": [
      "\n"
     ]
    }
   ],
   "source": [
    "model = BiLSTM_CRF(len(word_to_idx), 300, 256, len(tag_to_ix), torch.tensor(word2vec_embedding_mat).to(device), tag_to_ix['START_TAG'], tag_to_ix['END_TAG'], tag_to_ix, device=device).to(device)\n",
    "optimizer = optim.SGD(model.parameters(), lr=0.01, weight_decay=1e-4)\n",
    "\n",
    "EPOCHS = 10\n",
    "train_loss = []\n",
    "val_loss = []\n",
    "train_macro_f1 = []\n",
    "val_macro_f1 = []\n",
    "\n",
    "for epoch in tqdm(range(EPOCHS), desc='Epoch'):\n",
    "    loss = 0\n",
    "    preds = []\n",
    "    actuals = []\n",
    "    for i, case in tqdm(enumerate(train_data), desc=f'Epoch {epoch + 1}/{EPOCHS}'):\n",
    "        sentence = prepare_sequence(train_data[case]['text'].split(' '), word_to_idx)\n",
    "        tags = prepare_sequence(train_data[case]['labels'], tag_to_ix)\n",
    "        sentence = sentence.to(device)\n",
    "        tags = tags.to(device)\n",
    "        model.train(True)\n",
    "        model.zero_grad()\n",
    "        loss = model.neg_log_likelihood(sentence, tags)\n",
    "        loss.backward()\n",
    "        optimizer.step()\n",
    "        loss += loss.item()\n",
    "        with torch.no_grad():\n",
    "            pred = model(sentence)[1]\n",
    "            tags = tags.cpu().numpy()\n",
    "            preds.extend(pred)\n",
    "            actuals.extend(tags)\n",
    "            \n",
    "    \n",
    "    train_loss.append(loss/len(train_data))\n",
    "    f1 = f1_score(actuals, preds, average='macro')\n",
    "    train_macro_f1.append(f1)\n",
    "    \n",
    "    model.eval()\n",
    "    with torch.no_grad():\n",
    "        loss = 0\n",
    "        preds = []\n",
    "        actuals = []\n",
    "        for case in val_data:\n",
    "            sentence = prepare_sequence(val_data[case]['text'].split(' '), word_to_idx)\n",
    "            tags = prepare_sequence(val_data[case]['labels'], tag_to_ix)\n",
    "            setence = sentence.to(device)\n",
    "            tags = tags.to(device)\n",
    "            loss = model.neg_log_likelihood(sentence, tags)\n",
    "            loss += loss.item()\n",
    "            pred = model(sentence)[1]\n",
    "            preds.extend(pred)\n",
    "            actuals.extend(tags.cpu().numpy())\n",
    "        f1 = f1_score(actuals, preds, average='macro')\n",
    "        val_macro_f1.append(f1)\n",
    "        val_loss.append(loss/len(val_data))\n",
    "\n",
    "    print()\n",
    "    print(f'Train loss: {train_loss[-1]}, Val loss: {val_loss[-1]}')\n",
    "    print(f'Train macro f1: {train_macro_f1[-1]}, Val macro f1: {val_macro_f1[-1]}')\n",
    "    print(f'Epoch {epoch + 1}/{EPOCHS} done')"
   ]
  },
  {
   "cell_type": "code",
   "execution_count": 13,
   "metadata": {},
   "outputs": [],
   "source": [
    "torch.save(model, 'Non Trainable Embeddings/Word2vec/bilstm_crf_word2vec.pt')\n",
    "torch.save(model, '../../Deliverables/Task1/Saved Models/t1_BiLSTM-CRF_Word2Vec.pt')\n",
    "pickle.dump(train_loss, open('Non Trainable Embeddings/Word2vec/train_loss.pkl', 'wb'))\n",
    "pickle.dump(val_loss, open('Non Trainable Embeddings/Word2vec/val_loss.pkl', 'wb'))\n",
    "pickle.dump(train_macro_f1, open('Non Trainable Embeddings/Word2vec/train_f1.pkl', 'wb'))\n",
    "pickle.dump(val_macro_f1, open('Non Trainable Embeddings/Word2vec/val_f1.pkl', 'wb'))"
   ]
  },
  {
   "cell_type": "markdown",
   "metadata": {},
   "source": [
    "#### Bert"
   ]
  },
  {
   "cell_type": "code",
   "execution_count": 15,
   "metadata": {},
   "outputs": [
    {
     "name": "stderr",
     "output_type": "stream",
     "text": [
      "Epoch 1/10: 8019it [05:23, 24.76it/s], ?it/s]\n",
      "Epoch:  10%|█         | 1/10 [05:49<52:23, 349.31s/it]"
     ]
    },
    {
     "name": "stdout",
     "output_type": "stream",
     "text": [
      "\n",
      "Train loss: tensor([0.0019], grad_fn=<DivBackward0>), Val loss: tensor([0.0007])\n",
      "Train macro f1: 0.5497404793365404, Val macro f1: 0.5102395475399429\n",
      "Epoch 1/10 done\n"
     ]
    },
    {
     "name": "stderr",
     "output_type": "stream",
     "text": [
      "Epoch 2/10: 8019it [05:34, 23.97it/s]\n",
      "Epoch:  20%|██        | 2/10 [11:48<47:22, 355.32s/it]"
     ]
    },
    {
     "name": "stdout",
     "output_type": "stream",
     "text": [
      "\n",
      "Train loss: tensor([0.0014], grad_fn=<DivBackward0>), Val loss: tensor([0.0006])\n",
      "Train macro f1: 0.6365756840844793, Val macro f1: 0.5337141729934797\n",
      "Epoch 2/10 done\n"
     ]
    },
    {
     "name": "stderr",
     "output_type": "stream",
     "text": [
      "Epoch 3/10: 8019it [05:35, 23.91it/s]\n",
      "Epoch:  30%|███       | 3/10 [17:49<41:45, 357.95s/it]"
     ]
    },
    {
     "name": "stdout",
     "output_type": "stream",
     "text": [
      "\n",
      "Train loss: tensor([0.0015], grad_fn=<DivBackward0>), Val loss: tensor([0.0006])\n",
      "Train macro f1: 0.6692580321036177, Val macro f1: 0.5380638494112358\n",
      "Epoch 3/10 done\n"
     ]
    },
    {
     "name": "stderr",
     "output_type": "stream",
     "text": [
      "Epoch 4/10: 8019it [05:38, 23.72it/s]\n",
      "Epoch:  40%|████      | 4/10 [23:53<36:01, 360.31s/it]"
     ]
    },
    {
     "name": "stdout",
     "output_type": "stream",
     "text": [
      "\n",
      "Train loss: tensor([0.0013], grad_fn=<DivBackward0>), Val loss: tensor([0.0005])\n",
      "Train macro f1: 0.6970135941901476, Val macro f1: 0.5640675486156878\n",
      "Epoch 4/10 done\n"
     ]
    },
    {
     "name": "stderr",
     "output_type": "stream",
     "text": [
      "Epoch 5/10: 8019it [05:42, 23.40it/s]\n",
      "Epoch:  50%|█████     | 5/10 [30:02<30:16, 363.22s/it]"
     ]
    },
    {
     "name": "stdout",
     "output_type": "stream",
     "text": [
      "\n",
      "Train loss: tensor([0.0013], grad_fn=<DivBackward0>), Val loss: tensor([0.0003])\n",
      "Train macro f1: 0.7262225493534639, Val macro f1: 0.5879172593757325\n",
      "Epoch 5/10 done\n"
     ]
    },
    {
     "name": "stderr",
     "output_type": "stream",
     "text": [
      "Epoch 6/10: 8019it [05:46, 23.14it/s]\n",
      "Epoch:  60%|██████    | 6/10 [36:17<24:29, 367.38s/it]"
     ]
    },
    {
     "name": "stdout",
     "output_type": "stream",
     "text": [
      "\n",
      "Train loss: tensor([0.0017], grad_fn=<DivBackward0>), Val loss: tensor([0.0003])\n",
      "Train macro f1: 0.7387758686338437, Val macro f1: 0.5952121847131837\n",
      "Epoch 6/10 done\n"
     ]
    },
    {
     "name": "stderr",
     "output_type": "stream",
     "text": [
      "Epoch 7/10: 8019it [06:21, 21.00it/s]\n",
      "Epoch:  70%|███████   | 7/10 [43:08<19:04, 381.51s/it]"
     ]
    },
    {
     "name": "stdout",
     "output_type": "stream",
     "text": [
      "\n",
      "Train loss: tensor([0.0018], grad_fn=<DivBackward0>), Val loss: tensor([0.0002])\n",
      "Train macro f1: 0.7564401199672538, Val macro f1: 0.6095322481178368\n",
      "Epoch 7/10 done\n"
     ]
    },
    {
     "name": "stderr",
     "output_type": "stream",
     "text": [
      "Epoch 8/10: 8019it [06:22, 20.98it/s]\n",
      "Epoch:  80%|████████  | 8/10 [50:00<13:02, 391.30s/it]"
     ]
    },
    {
     "name": "stdout",
     "output_type": "stream",
     "text": [
      "\n",
      "Train loss: tensor([0.0019], grad_fn=<DivBackward0>), Val loss: tensor([0.0002])\n",
      "Train macro f1: 0.7736583566646927, Val macro f1: 0.604051342052103\n",
      "Epoch 8/10 done\n"
     ]
    },
    {
     "name": "stderr",
     "output_type": "stream",
     "text": [
      "Epoch 9/10: 8019it [06:21, 21.00it/s]\n",
      "Epoch:  90%|█████████ | 9/10 [56:51<06:37, 397.39s/it]"
     ]
    },
    {
     "name": "stdout",
     "output_type": "stream",
     "text": [
      "\n",
      "Train loss: tensor([0.0017], grad_fn=<DivBackward0>), Val loss: tensor([0.0002])\n",
      "Train macro f1: 0.7889505497764324, Val macro f1: 0.6251345663545272\n",
      "Epoch 9/10 done\n"
     ]
    },
    {
     "name": "stderr",
     "output_type": "stream",
     "text": [
      "Epoch 10/10: 8019it [06:25, 20.80it/s]\n",
      "Epoch: 100%|██████████| 10/10 [1:03:45<00:00, 382.57s/it]"
     ]
    },
    {
     "name": "stdout",
     "output_type": "stream",
     "text": [
      "\n",
      "Train loss: tensor([0.0017], grad_fn=<DivBackward0>), Val loss: tensor([0.0002])\n",
      "Train macro f1: 0.8028377214709194, Val macro f1: 0.6247059697574147\n",
      "Epoch 10/10 done\n"
     ]
    },
    {
     "name": "stderr",
     "output_type": "stream",
     "text": [
      "\n"
     ]
    }
   ],
   "source": [
    "model = BiLSTM_CRF(len(word_to_idx), 768, 256, len(tag_to_ix), torch.tensor(bert_embedding_mat).to(device), tag_to_ix['START_TAG'], tag_to_ix['END_TAG'], tag_to_ix, device=device).to(device)\n",
    "optimizer = optim.SGD(model.parameters(), lr=0.01, weight_decay=1e-4)\n",
    "\n",
    "EPOCHS = 10\n",
    "train_loss = []\n",
    "val_loss = []\n",
    "train_macro_f1 = []\n",
    "val_macro_f1 = []\n",
    "\n",
    "for epoch in tqdm(range(EPOCHS), desc='Epoch'):\n",
    "    loss = 0\n",
    "    preds = []\n",
    "    actuals = []\n",
    "    for i, case in tqdm(enumerate(train_data), desc=f'Epoch {epoch + 1}/{EPOCHS}'):\n",
    "        sentence = prepare_sequence(train_data[case]['text'].split(' '), word_to_idx)\n",
    "        tags = prepare_sequence(train_data[case]['labels'], tag_to_ix)\n",
    "        sentence = sentence.to(device)\n",
    "        tags = tags.to(device)\n",
    "        model.train(True)\n",
    "        model.zero_grad()\n",
    "        loss = model.neg_log_likelihood(sentence, tags)\n",
    "        loss.backward()\n",
    "        optimizer.step()\n",
    "        loss += loss.item()\n",
    "        with torch.no_grad():\n",
    "            pred = model(sentence)[1]\n",
    "            tags = tags.cpu().numpy()\n",
    "            preds.extend(pred)\n",
    "            actuals.extend(tags)\n",
    "            \n",
    "    \n",
    "    train_loss.append(loss/len(train_data))\n",
    "    f1 = f1_score(actuals, preds, average='macro')\n",
    "    train_macro_f1.append(f1)\n",
    "    \n",
    "    model.eval()\n",
    "    with torch.no_grad():\n",
    "        loss = 0\n",
    "        preds = []\n",
    "        actuals = []\n",
    "        for case in val_data:\n",
    "            sentence = prepare_sequence(val_data[case]['text'].split(' '), word_to_idx)\n",
    "            tags = prepare_sequence(val_data[case]['labels'], tag_to_ix)\n",
    "            setence = sentence.to(device)\n",
    "            tags = tags.to(device)\n",
    "            loss = model.neg_log_likelihood(sentence, tags)\n",
    "            loss += loss.item()\n",
    "            pred = model(sentence)[1]\n",
    "            preds.extend(pred)\n",
    "            actuals.extend(tags.cpu().numpy())\n",
    "        f1 = f1_score(actuals, preds, average='macro')\n",
    "        val_macro_f1.append(f1)\n",
    "        val_loss.append(loss/len(val_data))\n",
    "\n",
    "    print()\n",
    "    print(f'Train loss: {train_loss[-1]}, Val loss: {val_loss[-1]}')\n",
    "    print(f'Train macro f1: {train_macro_f1[-1]}, Val macro f1: {val_macro_f1[-1]}')\n",
    "    print(f'Epoch {epoch + 1}/{EPOCHS} done')"
   ]
  },
  {
   "cell_type": "code",
   "execution_count": 16,
   "metadata": {},
   "outputs": [],
   "source": [
    "torch.save(model, 'Non Trainable Embeddings/Bert/bilstm_crf_bert.pt')\n",
    "torch.save(model, '../../Deliverables/Task1/Saved Models/t1_BiLSTM-CRF_Legal Bert.pt')\n",
    "pickle.dump(train_loss, open('Non Trainable Embeddings/Bert/train_loss.pkl', 'wb'))\n",
    "pickle.dump(val_loss, open('Non Trainable Embeddings/Bert/val_loss.pkl', 'wb'))\n",
    "pickle.dump(train_macro_f1, open('Non Trainable Embeddings/Bert/train_f1.pkl', 'wb'))\n",
    "pickle.dump(val_macro_f1, open('Non Trainable Embeddings/Bert/val_f1.pkl', 'wb'))"
   ]
  },
  {
   "cell_type": "code",
   "execution_count": null,
   "metadata": {},
   "outputs": [
    {
     "name": "stdout",
     "output_type": "stream",
     "text": [
      "Test macro f1: 0.771086573696499\n"
     ]
    }
   ],
   "source": []
  },
  {
   "cell_type": "code",
   "execution_count": null,
   "metadata": {},
   "outputs": [],
   "source": []
  }
 ],
 "metadata": {
  "kernelspec": {
   "display_name": "Python 3",
   "language": "python",
   "name": "python3"
  },
  "language_info": {
   "codemirror_mode": {
    "name": "ipython",
    "version": 3
   },
   "file_extension": ".py",
   "mimetype": "text/x-python",
   "name": "python",
   "nbconvert_exporter": "python",
   "pygments_lexer": "ipython3",
   "version": "3.11.8"
  }
 },
 "nbformat": 4,
 "nbformat_minor": 2
}
