{
 "cells": [
  {
   "cell_type": "code",
   "execution_count": null,
   "metadata": {},
   "outputs": [],
   "source": [
    "import matplotlib.pyplot as plt\n",
    "import numpy as np\n",
    "import pandas\n",
    "import os\n",
    "import pickle\n",
    "import seaborn as sns"
   ]
  },
  {
   "cell_type": "code",
   "execution_count": null,
   "metadata": {},
   "outputs": [],
   "source": [
    "def plot_losses(losses, embedding):\n",
    "    sns.set(style=\"whitegrid\")\n",
    "    plt.figure(figsize=(10, 6))\n",
    "    sns.lineplot(x=range(1, len(losses) + 1), y=losses, label='Loss')\n",
    "    plt.title(f'Loss - {embedding}')\n",
    "    plt.xlabel('Epoch')\n",
    "    plt.ylabel('Loss')\n",
    "    plt.legend()\n",
    "    # plt.show()\n",
    "    plt.savefig(f'Plots/loss_{embedding}.png')\n",
    "\n",
    "def plot_f1s(f1_scores, embedding):\n",
    "    sns.set(style=\"whitegrid\")\n",
    "    plt.figure(figsize=(10, 6))\n",
    "    sns.lineplot(x=range(1, len(f1_scores) + 1), y=f1_scores, label='F1 Score')\n",
    "    plt.title(f'F1 Score - {embedding}')\n",
    "    plt.xlabel('Epoch')\n",
    "    plt.ylabel('F1 Score')\n",
    "    plt.legend()\n",
    "    # plt.show()\n",
    "    plt.savefig(f'Plots/f1_{embedding}.png')"
   ]
  },
  {
   "cell_type": "markdown",
   "metadata": {},
   "source": [
    "# Plotting Baseline models"
   ]
  },
  {
   "cell_type": "code",
   "execution_count": null,
   "metadata": {},
   "outputs": [],
   "source": [
    "base_path = 'Part 2/Non Trainable Embeddings'\n",
    "models = os.listdir(base_path)\n",
    "\n",
    "for model in models:\n",
    "    final_path = base_path + '/' + model\n",
    "    train_losses = pickle.load(open(final_path + '/train_loss.pkl', 'rb'))\n",
    "    val_losses = pickle.load(open(final_path + '/val_loss.pkl', 'rb'))\n",
    "    train_f1s = pickle.load(open(final_path + '/train_f1.pkl', 'rb'))\n",
    "    val_f1s = pickle.load(open(final_path + '/val_f1.pkl', 'rb'))\n",
    "\n",
    "    plot_losses(train_losses, model)\n",
    "    plot_f1s(train_f1s, model)\n",
    "    plot_losses(val_losses, model)\n",
    "    plot_f1s(val_f1s, model)"
   ]
  },
  {
   "cell_type": "markdown",
   "metadata": {},
   "source": [
    "# Plotting BiLSTM-CRF"
   ]
  },
  {
   "cell_type": "code",
   "execution_count": null,
   "metadata": {},
   "outputs": [],
   "source": [
    "base_path = 'Part 3/Non Trainable Embeddings'\n",
    "models = os.listdir(base_path)\n",
    "\n",
    "for model in models:\n",
    "    final_path = base_path + '/' + model\n",
    "    train_losses = pickle.load(open(final_path + '/train_loss.pkl', 'rb'))\n",
    "    train_losses = [float(loss.item()) for loss in train_losses]\n",
    "\n",
    "    val_losses = pickle.load(open(final_path + '/val_loss.pkl', 'rb'))\n",
    "    val_losses = [float(loss.item()) for loss in val_losses]\n",
    "\n",
    "    train_f1s = pickle.load(open(final_path + '/train_f1.pkl', 'rb'))\n",
    "    train_f1s = [float(f1.item()) for f1 in train_f1s]\n",
    "\n",
    "    val_f1s = pickle.load(open(final_path + '/val_f1.pkl', 'rb'))\n",
    "    val_f1s = [float(f1.item()) for f1 in val_f1s]\n",
    "\n",
    "    plot_losses(train_losses, f'BiLSTM CRF + {model}')\n",
    "    plot_f1s(train_f1s, model)\n",
    "    plot_losses(val_losses, model)\n",
    "    plot_f1s(val_f1s, model)"
   ]
  }
 ],
 "metadata": {
  "kernelspec": {
   "display_name": "base",
   "language": "python",
   "name": "python3"
  },
  "language_info": {
   "codemirror_mode": {
    "name": "ipython",
    "version": 3
   },
   "file_extension": ".py",
   "mimetype": "text/x-python",
   "name": "python",
   "nbconvert_exporter": "python",
   "pygments_lexer": "ipython3",
   "version": "3.10.9"
  }
 },
 "nbformat": 4,
 "nbformat_minor": 2
}
