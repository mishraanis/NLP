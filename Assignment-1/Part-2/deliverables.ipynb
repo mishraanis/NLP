{
 "cells": [
  {
   "cell_type": "code",
   "execution_count": 1,
   "metadata": {},
   "outputs": [],
   "source": [
    "import pickle\n",
    "import os\n",
    "import numpy as np"
   ]
  },
  {
   "cell_type": "code",
   "execution_count": 2,
   "metadata": {},
   "outputs": [],
   "source": [
    "vocab = pickle.load(open('Checkpoints/vocab.pkl', 'rb'))\n",
    "bigram_probs = pickle.load(open('Checkpoints/bigram_probs.pkl', 'rb'))\n",
    "bigram_probs_laplace = pickle.load(open('Checkpoints/bigram_probs_laplace.pkl', 'rb'))\n",
    "bigram_probs_kneser = pickle.load(open('Checkpoints/bigram_probs_kneser.pkl', 'rb'))"
   ]
  },
  {
   "cell_type": "code",
   "execution_count": 4,
   "metadata": {},
   "outputs": [
    {
     "name": "stdout",
     "output_type": "stream",
     "text": [
      "Bigram with highest probability: category <EOS> 1.0\n"
     ]
    }
   ],
   "source": [
    "word1 = ''\n",
    "word2 = ''\n",
    "\n",
    "max_prob = 0\n",
    "\n",
    "for i, word in enumerate(vocab):\n",
    "    for j, word_ in enumerate(vocab):\n",
    "        if bigram_probs[i][j] > max_prob:\n",
    "            max_prob = bigram_probs[i][j]\n",
    "            word1 = word\n",
    "            word2 = word_\n",
    "\n",
    "print('Bigram with highest probability:', word1, word2, max_prob)"
   ]
  },
  {
   "cell_type": "code",
   "execution_count": null,
   "metadata": {},
   "outputs": [],
   "source": []
  }
 ],
 "metadata": {
  "kernelspec": {
   "display_name": "Python 3",
   "language": "python",
   "name": "python3"
  },
  "language_info": {
   "codemirror_mode": {
    "name": "ipython",
    "version": 3
   },
   "file_extension": ".py",
   "mimetype": "text/x-python",
   "name": "python",
   "nbconvert_exporter": "python",
   "pygments_lexer": "ipython3",
   "version": "3.11.8"
  }
 },
 "nbformat": 4,
 "nbformat_minor": 2
}
