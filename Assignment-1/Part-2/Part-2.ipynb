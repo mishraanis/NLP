{
 "cells": [
  {
   "cell_type": "code",
   "execution_count": 1,
   "metadata": {},
   "outputs": [],
   "source": [
    "import numpy as np\n",
    "from collections import defaultdict"
   ]
  },
  {
   "cell_type": "code",
   "execution_count": 2,
   "metadata": {},
   "outputs": [],
   "source": [
    "class BigramLM:\n",
    "    def __init__(self):\n",
    "        self.vocab = set()\n",
    "        self.bigram_counts = defaultdict(lambda: defaultdict(int))\n",
    "        self.unigram_counts = defaultdict(int)\n",
    "        self.bigram_probs = None\n",
    "\n",
    "    def learn_from_dataset(self, dataset):\n",
    "        for sentence in dataset:\n",
    "            tokens = sentence.split()\n",
    "            for i in range(len(tokens) - 1):\n",
    "                word1, word2 = tokens[i], tokens[i + 1]\n",
    "                self.vocab.add(word1)\n",
    "                self.vocab.add(word2)\n",
    "                self.bigram_counts[word1][word2] += 1\n",
    "                self.unigram_counts[word1] += 1\n",
    "                \n",
    "        self.vocab = list(self.vocab)\n",
    "        self.calculate_bigram_probs()\n",
    "\n",
    "    def calculate_bigram_probs(self):\n",
    "        num_words = len(self.vocab)\n",
    "        self.bigram_probs = np.zeros((num_words, num_words))\n",
    "        \n",
    "        for i, word1 in enumerate(self.vocab):\n",
    "            for j, word2 in enumerate(self.vocab):\n",
    "                if self.unigram_counts[word1] > 0:\n",
    "                    self.bigram_probs[i][j] = self.bigram_counts[word1][word2] / self.unigram_counts[word1]    \n",
    "    \n",
    "    # KNESER-NEY REMAINS\n",
    "\n",
    "    def generate_next_word(self, current_word):\n",
    "        if current_word not in self.vocab:\n",
    "            raise ValueError(f\"{current_word} not found in the vocabulary.\")\n",
    "\n",
    "        word_index = list(self.vocab).index(current_word)\n",
    "        next_word_probs = self.bigram_probs[word_index]\n",
    "\n",
    "        # CONFUSED HERE\n",
    "        next_word_index = list(next_word_probs).index(max(next_word_probs))\n",
    "        # next_word_index = np.random.choice(len(self.vocab), p=next_word_probs)\n",
    "\n",
    "        next_word = list(self.vocab)[next_word_index]\n",
    "\n",
    "        return next_word"
   ]
  },
  {
   "cell_type": "code",
   "execution_count": 4,
   "metadata": {},
   "outputs": [],
   "source": [
    "corpus = open('../Dataset/corpus.txt')\n",
    "dataset = []\n",
    "for i in corpus.readlines():\n",
    "    dataset.append(i)"
   ]
  },
  {
   "cell_type": "code",
   "execution_count": 5,
   "metadata": {},
   "outputs": [
    {
     "name": "stdout",
     "output_type": "stream",
     "text": [
      "[[0. 0. 0. ... 0. 0. 0.]\n",
      " [0. 0. 0. ... 0. 0. 0.]\n",
      " [0. 0. 0. ... 0. 0. 0.]\n",
      " ...\n",
      " [0. 0. 0. ... 0. 0. 0.]\n",
      " [0. 0. 0. ... 0. 0. 0.]\n",
      " [0. 0. 0. ... 0. 0. 0.]]\n"
     ]
    }
   ],
   "source": [
    "model = BigramLM()\n",
    "model.learn_from_dataset(dataset)\n",
    "print(model.bigram_probs)"
   ]
  },
  {
   "cell_type": "code",
   "execution_count": 6,
   "metadata": {},
   "outputs": [
    {
     "data": {
      "text/plain": [
       "['im', 'feeling', 'a', 'little', 'bit', 'of']"
      ]
     },
     "execution_count": 6,
     "metadata": {},
     "output_type": "execute_result"
    }
   ],
   "source": [
    "current_word = \"im\"\n",
    "generated_sentence = [current_word]\n",
    "\n",
    "for _ in range(5):\n",
    "    current_word = model.generate_next_word(current_word)\n",
    "    generated_sentence.append(current_word)\n",
    "\n",
    "generated_sentence"
   ]
  }
 ],
 "metadata": {
  "kernelspec": {
   "display_name": "Python 3",
   "language": "python",
   "name": "python3"
  },
  "language_info": {
   "codemirror_mode": {
    "name": "ipython",
    "version": 3
   },
   "file_extension": ".py",
   "mimetype": "text/x-python",
   "name": "python",
   "nbconvert_exporter": "python",
   "pygments_lexer": "ipython3",
   "version": "3.11.6"
  }
 },
 "nbformat": 4,
 "nbformat_minor": 2
}
