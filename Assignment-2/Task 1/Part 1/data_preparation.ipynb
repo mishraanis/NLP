{
 "cells": [
  {
   "cell_type": "code",
   "execution_count": 62,
   "metadata": {},
   "outputs": [],
   "source": [
    "import json\n",
    "import random\n",
    "from sklearn.model_selection import train_test_split"
   ]
  },
  {
   "cell_type": "code",
   "execution_count": 63,
   "metadata": {},
   "outputs": [],
   "source": [
    "data_train = json.load(open('../Dataset/NER_TRAIN_JUDGEMENT.json'))\n",
    "data_test = json.load(open('../Dataset/NER_TEST_JUDGEMENT.json'))"
   ]
  },
  {
   "cell_type": "code",
   "execution_count": 64,
   "metadata": {},
   "outputs": [],
   "source": [
    "def get_token_indices(sentence, start, end):\n",
    "    words = sentence.split(' ')\n",
    "    start_index = 0\n",
    "    end_index = 0\n",
    "    for i, word in enumerate(words):\n",
    "        if start_index == 0 and start < len(word):\n",
    "            start_index = i\n",
    "        start -= len(word) + 1\n",
    "        if end == len(word) or end == len(word) - 1:\n",
    "            end_index = i+1\n",
    "            break\n",
    "        if end < len(word):\n",
    "            end_index = i\n",
    "            break\n",
    "        end -= len(word) + 1\n",
    "    return start_index, end_index"
   ]
  },
  {
   "cell_type": "code",
   "execution_count": 65,
   "metadata": {},
   "outputs": [],
   "source": [
    "data_train_preprocessed = {}\n",
    "\n",
    "for doc in data_train:\n",
    "    data_train_preprocessed[doc['id']] = {}\n",
    "    data_train_preprocessed[doc['id']]['text'] = doc['data']['text']\n",
    "    data_train_preprocessed[doc['id']]['labels'] = ['O'] * len(doc['data']['text'].split(' '))\n",
    "    \n",
    "    for results in doc['annotations'][0]['result']:\n",
    "        entity = results['value']\n",
    "        start, end = get_token_indices(doc['data']['text'], entity['start'], entity['end'])\n",
    "        if start == end:\n",
    "            data_train_preprocessed[doc['id']]['labels'][start] = 'B_' + results['value']['labels'][0]\n",
    "        else:\n",
    "            data_train_preprocessed[doc['id']]['labels'][start] = 'B_' + results['value']['labels'][0]\n",
    "            for i in range(start+1, end):\n",
    "                data_train_preprocessed[doc['id']]['labels'][i] = 'I_' + results['value']['labels'][0]\n"
   ]
  },
  {
   "cell_type": "code",
   "execution_count": 66,
   "metadata": {},
   "outputs": [],
   "source": [
    "data_test_preprocessed = {}\n",
    "\n",
    "for doc in data_test:\n",
    "    data_test_preprocessed[doc['id']] = {}\n",
    "    data_test_preprocessed[doc['id']]['text'] = doc['data']['text']\n",
    "    data_test_preprocessed[doc['id']]['labels'] = ['O'] * len(doc['data']['text'].split(' '))\n",
    "    \n",
    "    for results in doc['annotations'][0]['result']:\n",
    "        entity = results['value']\n",
    "        start, end = get_token_indices(doc['data']['text'], entity['start'], entity['end'])\n",
    "        if start == end:\n",
    "            data_test_preprocessed[doc['id']]['labels'][start] = 'B_' + results['value']['labels'][0]\n",
    "        else:\n",
    "            data_test_preprocessed[doc['id']]['labels'][start] = 'B_' + results['value']['labels'][0]\n",
    "            for i in range(start+1, end):\n",
    "                data_test_preprocessed[doc['id']]['labels'][i] = 'I_' + results['value']['labels'][0]"
   ]
  },
  {
   "cell_type": "code",
   "execution_count": 68,
   "metadata": {},
   "outputs": [],
   "source": [
    "train_ids = list(data_train_preprocessed.keys())\n",
    "random.seed(42)\n",
    "random.shuffle(train_ids)\n",
    "\n",
    "train_ids, val_ids = train_test_split(train_ids, test_size=0.15, random_state=42)\n",
    "\n",
    "train_preprocessed = {id: data_train_preprocessed[id] for id in train_ids}\n",
    "val_preprocessed = {id: data_train_preprocessed[id] for id in val_ids}\n",
    "\n",
    "json.dump(train_preprocessed, open('../Dataset/NER_train.json', 'w'))\n",
    "json.dump(val_preprocessed, open('../Dataset/NER_val.json', 'w'))\n",
    "json.dump(data_test_preprocessed, open('../Dataset/NER_test.json', 'w'))"
   ]
  },
  {
   "cell_type": "code",
   "execution_count": null,
   "metadata": {},
   "outputs": [],
   "source": []
  }
 ],
 "metadata": {
  "kernelspec": {
   "display_name": "Python 3",
   "language": "python",
   "name": "python3"
  },
  "language_info": {
   "codemirror_mode": {
    "name": "ipython",
    "version": 3
   },
   "file_extension": ".py",
   "mimetype": "text/x-python",
   "name": "python",
   "nbconvert_exporter": "python",
   "pygments_lexer": "ipython3",
   "version": "3.11.8"
  }
 },
 "nbformat": 4,
 "nbformat_minor": 2
}
