{
 "cells": [
  {
   "cell_type": "code",
   "execution_count": 1,
   "metadata": {},
   "outputs": [],
   "source": [
    "import collections, re\n",
    "\n",
    "class Tokenizer:\n",
    "    def __init__(self):\n",
    "        self.vocab = {}\n",
    "        self.merges = collections.defaultdict(int)\n",
    "        self.tokens = []"
   ]
  },
  {
   "cell_type": "markdown",
   "metadata": {},
   "source": [
    "Learn Vocabulary"
   ]
  },
  {
   "cell_type": "code",
   "execution_count": 2,
   "metadata": {},
   "outputs": [],
   "source": [
    "def learn_vocabulary(self, corpus, num_merges):\n",
    "    word_freqs = collections.defaultdict(int)\n",
    "    for word in corpus:\n",
    "        _word = ' '.join(list(word)) + ' </w>'\n",
    "        word_freqs[_word] += 1\n",
    "\n",
    "    for word, freq in word_freqs.items():\n",
    "        self.vocab[word] = freq\n",
    "\n",
    "    for word in self.vocab:\n",
    "        self.tokens.extend(word.split())\n",
    "    for _ in range(num_merges):\n",
    "        pairs = collections.defaultdict(int)\n",
    "        for word, freq in self.vocab.items():\n",
    "            symbols = word.split()\n",
    "            for i in range(len(symbols) - 1):\n",
    "                pairs[symbols[i], symbols[i + 1]] += freq\n",
    "\n",
    "        if not pairs:\n",
    "            break\n",
    "\n",
    "        most_frequent_pair = max(pairs, key=pairs.get)\n",
    "        self.merges[most_frequent_pair] += 1\n",
    "        new_vocab = {}\n",
    "        bigram = re.escape(' '.join(most_frequent_pair)) \n",
    "        p = re.compile(r'(?<!\\S)' + bigram + r'(?!\\S)') \n",
    "        for word in self.vocab:\n",
    "            new_word = p.sub(''.join(most_frequent_pair), word)\n",
    "            new_vocab[new_word] = self.vocab[word]\n",
    "        self.vocab = new_vocab\n",
    "        \n",
    "        for word in self.vocab:\n",
    "            self.tokens.extend(word.split())\n",
    "        "
   ]
  },
  {
   "cell_type": "markdown",
   "metadata": {},
   "source": [
    "Tokenize"
   ]
  },
  {
   "cell_type": "code",
   "execution_count": 3,
   "metadata": {},
   "outputs": [],
   "source": [
    "def tokenize(self, sentence):\n",
    "    sentence = list('$'.join(list(sentence.split())))\n",
    "    sentence.append('$')\n",
    "    for i in range(len(sentence)):\n",
    "        if(sentence[i] == '$'):\n",
    "            sentence[i] = '</w>'\n",
    "\n",
    "    sentence = '_'+'_,_'.join(sentence) + '_'\n",
    "    for merge_rules in self.merges:\n",
    "        rule1 = '_'+'_,_'.join(merge_rules)+'_'\n",
    "        rule2 = '_'+(''.join(merge_rules))+ '_'\n",
    "        sentence = sentence.replace(rule1, rule2)\n",
    "    return sentence.replace('_', '').replace('</w>', '$')"
   ]
  },
  {
   "cell_type": "code",
   "execution_count": 4,
   "metadata": {},
   "outputs": [],
   "source": [
    "Tokenizer.learn_vocabulary = learn_vocabulary\n",
    "Tokenizer.tokenize = tokenize"
   ]
  },
  {
   "cell_type": "code",
   "execution_count": 5,
   "metadata": {},
   "outputs": [],
   "source": [
    "corpus = []\n",
    "with open('../../Assignment-1/Dataset/corpus.txt', 'r') as f:\n",
    "    for line in f:\n",
    "        corpus.extend(line.strip().split())\n",
    "\n",
    "tokenizer = Tokenizer()\n",
    "tokenizer.learn_vocabulary(corpus, 1000)"
   ]
  },
  {
   "cell_type": "markdown",
   "metadata": {},
   "source": [
    "Generate all possible tokens from the vocabulary"
   ]
  },
  {
   "cell_type": "code",
   "execution_count": 6,
   "metadata": {},
   "outputs": [],
   "source": [
    "tokens = set(tokenizer.tokens)\n",
    "with open('tokens.txt', 'w') as f:\n",
    "    for token in tokens:\n",
    "        token = token.replace('</w>', '$')\n",
    "        f.write(token + '\\n')"
   ]
  },
  {
   "cell_type": "markdown",
   "metadata": {},
   "source": [
    "Generate all merge rules learnt after learning the vocabulary"
   ]
  },
  {
   "cell_type": "code",
   "execution_count": 7,
   "metadata": {},
   "outputs": [],
   "source": [
    "with open('merge_rules.txt', 'w') as f:\n",
    "    for merge, freq in tokenizer.merges.items():\n",
    "        merge = list(merge)\n",
    "        merge[0] = merge[0].replace('</w>', '$')\n",
    "        merge[1] = merge[1].replace('</w>', '$')\n",
    "        f.write(merge[0] + ',' + merge[1] + '\\n')"
   ]
  },
  {
   "cell_type": "markdown",
   "metadata": {},
   "source": [
    "Tokenizing a set a test samples"
   ]
  },
  {
   "cell_type": "code",
   "execution_count": 8,
   "metadata": {},
   "outputs": [],
   "source": [
    "sample_corpus = []\n",
    "with open('sample_corpus.txt', 'r') as f:\n",
    "    for line in f:\n",
    "        sample_corpus.append(line.strip())\n",
    "\n",
    "for sentence in sample_corpus:\n",
    "    with open('tokenized_samples.txt', 'a') as f:\n",
    "        f.write(tokenizer.tokenize(sentence) + '\\n')\n"
   ]
  }
 ],
 "metadata": {
  "kernelspec": {
   "display_name": "Python 3",
   "language": "python",
   "name": "python3"
  },
  "language_info": {
   "codemirror_mode": {
    "name": "ipython",
    "version": 3
   },
   "file_extension": ".py",
   "mimetype": "text/x-python",
   "name": "python",
   "nbconvert_exporter": "python",
   "pygments_lexer": "ipython3",
   "version": "3.10.10"
  }
 },
 "nbformat": 4,
 "nbformat_minor": 2
}
