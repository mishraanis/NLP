{
 "cells": [
  {
   "cell_type": "code",
   "execution_count": 1,
   "metadata": {},
   "outputs": [],
   "source": [
    "import collections\n",
    "\n",
    "class Tokenizer:\n",
    "    def __init__(self):\n",
    "        self.vocab = {}\n",
    "        self.merges = collections.defaultdict(int)"
   ]
  },
  {
   "cell_type": "code",
   "execution_count": 2,
   "metadata": {},
   "outputs": [],
   "source": [
    "def learn_vocabulary(self, corpus, num_merges):\n",
    "    # Count character frequencies in the corpus\n",
    "    char_freqs = collections.defaultdict(int)\n",
    "    for word in corpus:\n",
    "        for char in word:\n",
    "            char_freqs[char] += 1\n",
    "    \n",
    "    # Initialize the vocabulary with single characters\n",
    "    self.vocab = {char: freq for char, freq in char_freqs.items()}\n",
    "    \n",
    "    # Learn the split rules and frequencies\n",
    "    for _ in range(num_merges):\n",
    "        pairs = collections.defaultdict(int)\n",
    "        for word in corpus:\n",
    "            symbols = word.split()\n",
    "            for i in range(len(symbols) - 1):\n",
    "                pair = (symbols[i], symbols[i+1])\n",
    "                pairs[pair] += 1\n",
    "        \n",
    "        # Find the most frequent pair\n",
    "        most_frequent_pair = max(pairs, key=pairs.get)\n",
    "        self.merges[most_frequent_pair] += 1\n",
    "        \n",
    "        # Update the vocabulary with the merged pair\n",
    "        new_symbol = ''.join(most_frequent_pair)\n",
    "        self.vocab[new_symbol] = pairs[most_frequent_pair]\n",
    "        \n",
    "        # Replace the merged pair in the corpus\n",
    "        new_corpus = []\n",
    "        for word in corpus:\n",
    "            new_word = ' '.join(word.split())\n",
    "            new_word = new_word.replace(' '.join(most_frequent_pair), new_symbol)\n",
    "            new_corpus.append(new_word)\n",
    "        \n",
    "        corpus = new_corpus"
   ]
  },
  {
   "cell_type": "code",
   "execution_count": 3,
   "metadata": {},
   "outputs": [],
   "source": [
    "def tokenize(self, sample):\n",
    "    tokens = []\n",
    "    for word in sample.split():\n",
    "        word_tokens = []\n",
    "        for char in word:\n",
    "            if char in self.vocab:\n",
    "                word_tokens.append(char)\n",
    "            else:\n",
    "                word_tokens.extend(self._split_word(char))\n",
    "        tokens.extend(word_tokens)\n",
    "    return tokens"
   ]
  },
  {
   "cell_type": "code",
   "execution_count": 4,
   "metadata": {},
   "outputs": [],
   "source": [
    "def _split_word(self, word):\n",
    "    if len(word) == 1:\n",
    "        return [word]\n",
    "\n",
    "    split_tokens = []\n",
    "    for i in range(len(word) - 1):\n",
    "        pair = (word[i], word[i+1])\n",
    "        if pair in self.merges:\n",
    "            split_tokens.append(''.join(pair))\n",
    "        else:\n",
    "            split_tokens.append(word[i])\n",
    "    split_tokens.append(word[-1])\n",
    "    return split_tokens"
   ]
  },
  {
   "cell_type": "code",
   "execution_count": 5,
   "metadata": {},
   "outputs": [],
   "source": [
    "Tokenizer.learn_vocabulary = learn_vocabulary\n",
    "Tokenizer.tokenize = tokenize\n",
    "Tokenizer._split_word = _split_word"
   ]
  },
  {
   "cell_type": "code",
   "execution_count": 6,
   "metadata": {},
   "outputs": [],
   "source": [
    "# read corpus from corpus.txt\n",
    "corpus = []\n",
    "with open('corpus.txt', 'r') as f:\n",
    "    for line in f:\n",
    "        corpus.append(line.strip())\n",
    "\n",
    "# learn vocabulary from corpus\n",
    "tokenizer = Tokenizer()\n",
    "tokenizer.learn_vocabulary(corpus, 1000)\n",
    "\n",
    "# generate all possible tokens from the vocabulary\n",
    "tokens = []\n",
    "for token in tokenizer.vocab.keys():\n",
    "    tokens.append(token)\n",
    "\n",
    "# write tokens to tokens.txt\n",
    "with open('tokens.txt', 'w') as f:\n",
    "    for token in tokens:\n",
    "        f.write(token + '\\n')\n",
    "    \n",
    "# write merges to merges.txt\n",
    "with open('merges.txt', 'w') as f:\n",
    "    for merge, freq in tokenizer.merges.items():\n",
    "        f.write('{}\\t{}\\n'.format(merge, freq))"
   ]
  }
 ],
 "metadata": {
  "kernelspec": {
   "display_name": "Python 3",
   "language": "python",
   "name": "python3"
  },
  "language_info": {
   "codemirror_mode": {
    "name": "ipython",
    "version": 3
   },
   "file_extension": ".py",
   "mimetype": "text/x-python",
   "name": "python",
   "nbconvert_exporter": "python",
   "pygments_lexer": "ipython3",
   "version": "3.10.10"
  }
 },
 "nbformat": 4,
 "nbformat_minor": 2
}
