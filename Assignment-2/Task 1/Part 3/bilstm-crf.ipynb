{
 "cells": [
  {
   "cell_type": "code",
   "execution_count": 7,
   "metadata": {},
   "outputs": [
    {
     "data": {
      "text/plain": [
       "<torch._C.Generator at 0x2083edca110>"
      ]
     },
     "execution_count": 7,
     "metadata": {},
     "output_type": "execute_result"
    }
   ],
   "source": [
    "import torch\n",
    "import torch.autograd as autograd\n",
    "import torch.nn as nn\n",
    "import torch.optim as optim\n",
    "import random\n",
    "from transformers import BertTokenizer, BertModel\n",
    "import json\n",
    "import numpy as np\n",
    "from tqdm import tqdm\n",
    "import pickle\n",
    "from sklearn.metrics import f1_score\n",
    "import matplotlib.pyplot as plt\n",
    "torch.manual_seed(1)"
   ]
  },
  {
   "cell_type": "code",
   "execution_count": 19,
   "metadata": {},
   "outputs": [],
   "source": [
    "device = \"cpu\""
   ]
  },
  {
   "cell_type": "code",
   "execution_count": 39,
   "metadata": {},
   "outputs": [
    {
     "name": "stdout",
     "output_type": "stream",
     "text": [
      "cuda\n"
     ]
    }
   ],
   "source": [
    "#check if cuda is available\n",
    "device = torch.device(\"cuda\" if torch.cuda.is_available() else \"cpu\")\n",
    "print(device)"
   ]
  },
  {
   "cell_type": "code",
   "execution_count": 17,
   "metadata": {},
   "outputs": [],
   "source": [
    "def argmax(vec):\n",
    "    # return the argmax as a python int\n",
    "    _, idx = torch.max(vec, 1)\n",
    "    return idx.item()\n",
    "\n",
    "def prepare_sequence(seq, to_ix):\n",
    "    idxs = [to_ix[w] for w in seq]\n",
    "    return torch.tensor(idxs, dtype=torch.long)"
   ]
  },
  {
   "cell_type": "markdown",
   "metadata": {},
   "source": [
    "#### BiLSTM CRF model"
   ]
  },
  {
   "cell_type": "code",
   "execution_count": 43,
   "metadata": {},
   "outputs": [],
   "source": [
    "class BiLSTM_CRF(nn.Module):\n",
    "\n",
    "    def __init__(self, vocab_size, embedding_dim, hidden_dim, target_size, embedding_mat, start_tag, end_tag, tag_to_ix, batch_size=1, device='cpu'):\n",
    "        super(BiLSTM_CRF, self).__init__()\n",
    "        self.embedding_dim = embedding_dim\n",
    "        self.hidden_dim = hidden_dim\n",
    "        self.vocab_size = vocab_size\n",
    "        self.target_size = target_size\n",
    "        self.batch_size = batch_size\n",
    "        self.device = device\n",
    "        self.tag_to_ix = tag_to_ix\n",
    "        self.start_tag = start_tag\n",
    "        self.end_tag = end_tag\n",
    "\n",
    "        self.embedding = nn.Embedding.from_pretrained(embedding_mat, freeze=False).to(device)\n",
    "        self.lstm = nn.LSTM(embedding_dim, hidden_dim // 2,\n",
    "                            num_layers=1, bidirectional=True).to(device)\n",
    "        self.hidden2tag = nn.Linear(hidden_dim, target_size).to(device)\n",
    "\n",
    "        self.transitions_to = nn.Parameter(torch.randn(target_size, target_size)).to(device)\n",
    "        self.transitions_to.data[start_tag, :] = -10000\n",
    "        self.transitions_to.data[:, end_tag] = -10000\n",
    "\n",
    "        # self.transitions_from = nn.Parameter(torch.randn(target_size, target_size))\n",
    "        # self.transitions_from.data[:, start_tag] = -10000\n",
    "        # self.transitions_from.data[end_tag, :] = -10000\n",
    "\n",
    "        self.hidden = self.init_hidden()\n",
    "        \n",
    "    def init_hidden(self):\n",
    "        return (torch.randn(2, 1, self.hidden_dim // 2).to(self.device),\n",
    "                torch.randn(2, 1, self.hidden_dim // 2).to(self.device))\n",
    "\n",
    "    def get_lstm_features(self, sentence):\n",
    "        self.hidden = self.init_hidden()\n",
    "        embeds = self.embedding(sentence).view(len(sentence), 1, -1)\n",
    "        #convert embeds to torch float32\n",
    "        embeds = embeds.float()\n",
    "        lstm_out, self.hidden = self.lstm(embeds, self.hidden)\n",
    "        lstm_out = lstm_out.view(len(sentence), self.hidden_dim)\n",
    "        lstm_feats = self.hidden2tag(lstm_out)\n",
    "        return lstm_feats\n",
    "\n",
    "\n",
    "    def _forward_algo(self, lstm_features):\n",
    "\n",
    "        scores = torch.full((1, self.target_size), -10000.).to(self.device)\n",
    "        scores[0][self.start_tag] = 0.\n",
    "\n",
    "        forward_var = scores\n",
    "\n",
    "        for feat in lstm_features:\n",
    "            next_tag_var = self.transitions_to + feat.view(-1, 1).expand(-1, self.target_size) + forward_var.expand(self.target_size, -1)\n",
    "            max_score = next_tag_var.max(dim=1).values.view(-1, 1)\n",
    "            next_tag_var = next_tag_var - max_score\n",
    "            forward_var = (max_score + torch.logsumexp(next_tag_var, dim=1).view(-1, 1)).view(1, -1)\n",
    "            \n",
    "        terminal_var = forward_var + (self.transitions_to[self.end_tag]).view(1, -1)\n",
    "        alpha = terminal_var\n",
    "        max_score = alpha.max()\n",
    "        alpha = max_score + torch.logsumexp(alpha - max_score, dim=1)\n",
    "        return alpha\n",
    "    \n",
    "\n",
    "    def _score_sentence(self, lstm_features, tags):\n",
    "        score = torch.zeros(1).to(self.device)\n",
    "        tags = torch.cat([torch.tensor([self.tag_to_ix['START_TAG']], dtype=torch.long).to(self.device), tags]).to(self.device)\n",
    "        for i, feat in enumerate(lstm_features):\n",
    "            score += self.transitions_to[tags[i + 1], tags[i]] + feat[tags[i + 1]]\n",
    "                \n",
    "        score += self.transitions_to[self.tag_to_ix['END_TAG'], tags[-1]]\n",
    "        return score\n",
    "    \n",
    "    def neg_log_likelihood(self, sentence, tags):\n",
    "        lstm_feats = self.get_lstm_features(sentence)\n",
    "        forward_score = self._forward_algo(lstm_feats)\n",
    "        gold_score = self._score_sentence(lstm_feats, tags)\n",
    "        return forward_score - gold_score\n",
    "    \n",
    "\n",
    "    def _viterbi_decode(self, feats):\n",
    "        backpointers = []\n",
    "\n",
    "        # Initialize the viterbi variables in log space\n",
    "        init_vvars = torch.full((1, self.target_size), -10000.).to(self.device)\n",
    "        init_vvars[0][self.start_tag] = 0\n",
    "\n",
    "        forward_var = init_vvars\n",
    "        for feat in feats:\n",
    "            bptrs_t = [] \n",
    "            viterbivars_t = [] \n",
    "\n",
    "            next_tag_var = self.transitions_to + forward_var.expand(self.target_size, -1)\n",
    "            best_tag_id = torch.argmax(next_tag_var, dim=1)\n",
    "            bptrs_t = best_tag_id\n",
    "            viterbivars_t = next_tag_var[range(len(best_tag_id)), best_tag_id].view(1, -1)\n",
    "            \n",
    "            forward_var = (viterbivars_t + feat).view(1, -1)\n",
    "            backpointers.append(bptrs_t)\n",
    "\n",
    "        \n",
    "        terminal_var = forward_var + self.transitions_to[self.end_tag]\n",
    "        best_tag_id = argmax(terminal_var)\n",
    "        path_score = terminal_var[0][best_tag_id]\n",
    "\n",
    "       \n",
    "        best_path = [best_tag_id]\n",
    "        for bptrs_t in reversed(backpointers):\n",
    "            best_tag_id = bptrs_t[best_tag_id]\n",
    "            best_path.append(best_tag_id.item())\n",
    "        \n",
    "        start = best_path.pop()\n",
    "        best_path.reverse()\n",
    "        return path_score, best_path\n",
    "        \n",
    "    def forward(self, sentence):  # dont confuse this with _forward_alg above.\n",
    "        # Get the emission scores from the BiLSTM\n",
    "        lstm_feats = self.get_lstm_features(sentence)\n",
    "\n",
    "        # Find the best path, given the features.\n",
    "        score, tag_seq = self._viterbi_decode(lstm_feats)\n",
    "        return score, tag_seq\n",
    "\n",
    "        "
   ]
  },
  {
   "cell_type": "code",
   "execution_count": 8,
   "metadata": {},
   "outputs": [],
   "source": [
    "train_data = json.load(open('../Dataset/NER_train.json', 'r'))\n",
    "test_data = json.load(open('../Dataset/NER_test.json', 'r'))\n",
    "val_data = json.load(open('../Dataset/NER_val.json', 'r'))"
   ]
  },
  {
   "cell_type": "code",
   "execution_count": 10,
   "metadata": {},
   "outputs": [],
   "source": [
    "word_to_idx = {}\n",
    "\n",
    "for case in train_data:\n",
    "    for text in train_data[case]['text'].split(' '):\n",
    "        if text not in word_to_idx:\n",
    "            word_to_idx[text] = len(word_to_idx)\n",
    "\n",
    "for case in test_data:\n",
    "    for text in test_data[case]['text'].split(' '):\n",
    "        if text not in word_to_idx:\n",
    "            word_to_idx[text] = len(word_to_idx)\n",
    "\n",
    "for case in val_data:\n",
    "    for text in val_data[case]['text'].split(' '):\n",
    "        if text not in word_to_idx:\n",
    "            word_to_idx[text] = len(word_to_idx)"
   ]
  },
  {
   "cell_type": "code",
   "execution_count": 11,
   "metadata": {},
   "outputs": [],
   "source": [
    "tag_to_ix = {}\n",
    "\n",
    "for case in train_data:\n",
    "    for tag in train_data[case]['labels']:\n",
    "        if tag not in tag_to_ix:\n",
    "            tag_to_ix[tag] = len(tag_to_ix)\n",
    "\n",
    "for case in test_data:\n",
    "    for tag in test_data[case]['labels']:\n",
    "        if tag not in tag_to_ix:\n",
    "            tag_to_ix[tag] = len(tag_to_ix)\n",
    "\n",
    "for case in val_data:\n",
    "    for tag in val_data[case]['labels']:\n",
    "        if tag not in tag_to_ix:\n",
    "            tag_to_ix[tag] = len(tag_to_ix)\n",
    "\n",
    "tag_to_ix['START_TAG'] = len(tag_to_ix)\n",
    "tag_to_ix['END_TAG'] = len(tag_to_ix)"
   ]
  },
  {
   "cell_type": "markdown",
   "metadata": {},
   "source": [
    "#### Bert Embeddings"
   ]
  },
  {
   "cell_type": "code",
   "execution_count": 9,
   "metadata": {},
   "outputs": [],
   "source": [
    "# tokenizer = BertTokenizer.from_pretrained('nlpaueb/legal-bert-base-uncased')\n",
    "# bert_model = BertModel.from_pretrained('nlpaueb/legal-bert-base-uncased')"
   ]
  },
  {
   "cell_type": "code",
   "execution_count": 10,
   "metadata": {},
   "outputs": [],
   "source": [
    "# embedding_mat = np.zeros((len(word_to_idx), 768))\n",
    "\n",
    "# for word, idx in tqdm(word_to_idx.items()):\n",
    "#     # if word in tokenizer.vocab:\n",
    "#     #     embedding_mat[idx] = bert_model(tokenizer.encode(word))[1].detach().numpy()\n",
    "#     # else:\n",
    "#     #     embedding_mat[idx] = np.random.rand(768)\n",
    "#     try:\n",
    "#         tokens = tokenizer.batch_encode_plus([word], return_tensors='pt', add_special_tokens=False)\n",
    "#     except:\n",
    "#         tokens = tokenizer.batch_encode_plus(['unk'], return_tensors='pt', add_special_tokens=False)\n",
    "#         continue\n",
    "#     embeddings = None\n",
    "#     with torch.no_grad():\n",
    "#         # outputs = bert_model(**tokens)\n",
    "#         # embeddings = outputs.last_hidden_state\n",
    "#         try:\n",
    "#             outputs = bert_model(**tokens)\n",
    "#             embeddings = outputs.last_hidden_state\n",
    "#         except:\n",
    "#             tokens = tokenizer.batch_encode_plus(['unk'], return_tensors='pt', add_special_tokens=False)\n",
    "#             outputs = bert_model(**tokens)\n",
    "#             embeddings = outputs.last_hidden_state\n",
    "#     embeddings = embeddings.squeeze(0)\n",
    "#     word_embeddings = embeddings.mean(dim = 0)\n",
    "#     embedding_mat[idx] = word_embeddings.squeeze(0).numpy()"
   ]
  },
  {
   "cell_type": "code",
   "execution_count": 11,
   "metadata": {},
   "outputs": [],
   "source": [
    "# pickle.dump(embedding_mat, open('Word Embeddings/legal_bert_embedding_mat.pkl', 'wb'))"
   ]
  },
  {
   "cell_type": "code",
   "execution_count": 13,
   "metadata": {},
   "outputs": [],
   "source": [
    "embedding_mat = pickle.load(open('legal_bert_embedding_mat.pkl', 'rb'))"
   ]
  },
  {
   "cell_type": "code",
   "execution_count": 44,
   "metadata": {},
   "outputs": [
    {
     "name": "stderr",
     "output_type": "stream",
     "text": [
      "Epoch:   0%|          | 0/10 [00:00<?, ?it/s]"
     ]
    }
   ],
   "source": [
    "model = BiLSTM_CRF(len(word_to_idx), 768, 256, len(tag_to_ix), torch.tensor(embedding_mat).to(device), tag_to_ix['START_TAG'], tag_to_ix['END_TAG'], tag_to_ix, device=device).to(device)\n",
    "optimizer = optim.SGD(model.parameters(), lr=0.01, weight_decay=1e-4)\n",
    "\n",
    "EPOCHS = 10\n",
    "train_loss = []\n",
    "val_loss = []\n",
    "train_macro_f1 = []\n",
    "val_macro_f1 = []\n",
    "\n",
    "for epoch in tqdm(range(EPOCHS), desc='Epoch'):\n",
    "    loss = 0\n",
    "    f1 = 0\n",
    "    for i, case in tqdm(enumerate(train_data), desc=f'Epoch {epoch + 1}/{EPOCHS}'):\n",
    "        sentence = prepare_sequence(train_data[case]['text'].split(' '), word_to_idx)\n",
    "        tags = prepare_sequence(train_data[case]['labels'], tag_to_ix)\n",
    "        sentence = sentence.to(device)\n",
    "        tags = tags.to(device)\n",
    "        model.train(True)\n",
    "        model.zero_grad()\n",
    "        loss = model.neg_log_likelihood(sentence, tags)\n",
    "        loss.backward()\n",
    "        optimizer.step()\n",
    "        loss += loss.item()\n",
    "        with torch.no_grad():\n",
    "            preds = model(sentence)[1]\n",
    "            tags = tags.cpu().numpy()\n",
    "            f1 += f1_score(tags, preds, average='macro')\n",
    "    \n",
    "    train_loss.append(loss/len(train_data))\n",
    "    train_macro_f1.append(f1/len(train_data))\n",
    "    \n",
    "    model.eval()\n",
    "    with torch.no_grad():\n",
    "        loss = 0\n",
    "        f1 = 0\n",
    "        for case in val_data:\n",
    "            sentence = prepare_sequence(val_data[case]['text'].split(' '), word_to_idx)\n",
    "            tags = prepare_sequence(val_data[case]['labels'], tag_to_ix)\n",
    "            setence = sentence.to(device)\n",
    "            tags = tags.to(device)\n",
    "            loss = model.neg_log_likelihood(sentence, tags)\n",
    "            loss += loss.item()\n",
    "            preds = model(sentence)[1]\n",
    "            f1 += f1_score(tags.cpu().numpy(), preds, average='macro')\n",
    "        val_macro_f1.append(f1/len(val_data))\n",
    "        val_loss.append(loss/len(val_data))\n",
    "\n",
    "    print()\n",
    "    print(f'Train loss: {train_loss[-1]}, Val loss: {val_loss[-1]}')\n",
    "    print(f'Train macro f1: {train_macro_f1[-1]}, Val macro f1: {val_macro_f1[-1]}')\n",
    "    print(f'Epoch {epoch + 1}/{EPOCHS} done')"
   ]
  },
  {
   "cell_type": "code",
   "execution_count": null,
   "metadata": {},
   "outputs": [],
   "source": [
    "torch.save(model, 'saved models/10_epochs_unfreeze_legalbert.pt')"
   ]
  },
  {
   "cell_type": "code",
   "execution_count": null,
   "metadata": {},
   "outputs": [],
   "source": [
    "pickle.dump(train_loss, open('Losses/10_epochs_unfreeze_train_loss.pkl', 'wb'))\n",
    "pickle.dump(val_loss, open('Losses/10_epochs_unfreeze_val_loss.pkl', 'wb'))\n",
    "pickle.dump(train_macro_f1, open('Macro_F1/10_epochs_unfreeze_train_macro_f1.pkl', 'wb'))\n",
    "pickle.dump(val_macro_f1, open('Macro_F1/10_epochs_unfreeze_val_macro_f1.pkl', 'wb'))"
   ]
  },
  {
   "cell_type": "code",
   "execution_count": null,
   "metadata": {},
   "outputs": [],
   "source": [
    "train_loss = pickle.load(open('Losses/10_epochs_train_loss.pkl', 'rb'))\n",
    "val_loss = pickle.load(open('Losses/10_epochs_val_loss.pkl', 'rb'))\n",
    "train_macro_f1 = pickle.load(open('Macro_F1/10_epochs_train_macro_f1.pkl', 'rb'))\n",
    "val_macro_f1 = pickle.load(open('Macro_F1/10_epochs_val_macro_f1.pkl', 'rb'))"
   ]
  },
  {
   "cell_type": "code",
   "execution_count": null,
   "metadata": {},
   "outputs": [
    {
     "data": {
      "image/png": "[encoded data removed]",
      "text/plain": [
       "<Figure size 640x480 with 1 Axes>"
      ]
     },
     "metadata": {},
     "output_type": "display_data"
    }
   ],
   "source": [
    "train_loss = [i.item() for i in train_loss]\n",
    "val_loss = [i.item() for i in val_loss]\n",
    "\n",
    "plt.plot(train_loss, label='Train loss')\n",
    "plt.plot(val_loss, label='Val loss')\n",
    "plt.legend()\n",
    "plt.show()"
   ]
  },
  {
   "cell_type": "code",
   "execution_count": null,
   "metadata": {},
   "outputs": [
    {
     "data": {
      "image/png": "[encoded data removed]",
      "text/plain": [
       "<Figure size 640x480 with 1 Axes>"
      ]
     },
     "metadata": {},
     "output_type": "display_data"
    }
   ],
   "source": [
    "train_f1 = [i.item() for i in train_macro_f1]\n",
    "val_f1 = [i.item() for i in val_macro_f1]\n",
    "\n",
    "plt.plot(train_f1, label='Train macro f1')\n",
    "plt.plot(val_f1, label='Val macro f1')\n",
    "plt.legend()\n",
    "plt.show()"
   ]
  },
  {
   "cell_type": "code",
   "execution_count": null,
   "metadata": {},
   "outputs": [],
   "source": [
    "model = torch.load('saved models/t1_model4_legalbert.pt')"
   ]
  },
  {
   "cell_type": "code",
   "execution_count": 28,
   "metadata": {},
   "outputs": [
    {
     "name": "stdout",
     "output_type": "stream",
     "text": [
      "Test macro f1: 0.6394855470162469\n"
     ]
    }
   ],
   "source": [
    "model.eval()\n",
    "with torch.no_grad():\n",
    "    f1 = 0\n",
    "    for case in test_data:\n",
    "        sentence = prepare_sequence(test_data[case]['text'].split(' '), word_to_idx)\n",
    "        tags = prepare_sequence(test_data[case]['labels'], tag_to_ix)\n",
    "        sentence = sentence.to(device)\n",
    "        tags = tags.to(device)\n",
    "        preds = model(sentence)[1]\n",
    "        tags = tags.cpu().numpy()\n",
    "        f1 += f1_score(tags, preds, average='macro')\n",
    "    print(f'Test macro f1: {f1/len(test_data)}')"
   ]
  },
  {
   "cell_type": "code",
   "execution_count": null,
   "metadata": {},
   "outputs": [],
   "source": []
  }
 ],
 "metadata": {
  "kernelspec": {
   "display_name": "Python 3",
   "language": "python",
   "name": "python3"
  },
  "language_info": {
   "codemirror_mode": {
    "name": "ipython",
    "version": 3
   },
   "file_extension": ".py",
   "mimetype": "text/x-python",
   "name": "python",
   "nbconvert_exporter": "python",
   "pygments_lexer": "ipython3",
   "version": "3.10.2"
  }
 },
 "nbformat": 4,
 "nbformat_minor": 2
}
