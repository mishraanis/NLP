{
 "cells": [
  {
   "cell_type": "code",
   "execution_count": 72,
   "metadata": {},
   "outputs": [],
   "source": [
    "import numpy as np\n",
    "from collections import defaultdict\n",
    "import random\n",
    "# from utils import emotion_scores"
   ]
  },
  {
   "cell_type": "code",
   "execution_count": 98,
   "metadata": {},
   "outputs": [],
   "source": [
    "class BigramLM:\n",
    "    def __init__(self):\n",
    "        self.vocab = set()\n",
    "        self.bigram_counts = defaultdict(lambda: defaultdict(int))\n",
    "        self.unigram_counts = defaultdict(int)\n",
    "        self.bigram_probs = None\n",
    "\n",
    "    def learn_from_dataset(self, dataset):\n",
    "        for sentence in dataset:\n",
    "            tokens = sentence.split()                        \n",
    "            for i in range(len(tokens) - 1):\n",
    "                word1, word2 = tokens[i], tokens[i + 1]\n",
    "                self.vocab.add(word1)\n",
    "                self.vocab.add(word2)\n",
    "                self.bigram_counts[word1][word2] += 1\n",
    "                self.unigram_counts[word1] += 1                            \n",
    "                \n",
    "        self.vocab = list(self.vocab)\n",
    "        self.calculate_bigram_probs_laplace()\n",
    "\n",
    "    def calculate_bigram_probs(self):\n",
    "        num_words = len(self.vocab)\n",
    "        self.bigram_probs = np.zeros((num_words, num_words))        \n",
    "        \n",
    "        for i, word1 in enumerate(self.vocab):\n",
    "            for j, word2 in enumerate(self.vocab):\n",
    "                if self.unigram_counts[word1] > 0:\n",
    "                    self.bigram_probs[i][j] = float(self.bigram_counts[word1][word2]) / float(self.unigram_counts[word1])\n",
    "\n",
    "    def calculate_bigram_probs_laplace(self):\n",
    "        num_words = len(self.vocab)\n",
    "        self.bigram_probs = np.zeros((num_words, num_words))\n",
    "\n",
    "        for i, word1 in enumerate(self.vocab):\n",
    "            for j, word2 in enumerate(self.vocab):\n",
    "                self.bigram_probs[i][j] = (self.bigram_counts[word1][word2] + 1) / (self.unigram_counts[word1] + num_words)\n",
    "    \n",
    "    # KNESER-NEY REMAINS\n",
    "\n",
    "    def generate_next_word(self, current_word):\n",
    "        if current_word not in self.vocab:\n",
    "            raise ValueError(f\"{current_word} not found in the vocabulary.\")\n",
    "\n",
    "        word_index = list(self.vocab).index(current_word)\n",
    "        next_word_probs = self.bigram_probs[word_index]\n",
    "\n",
    "        # CONFUSED HERE\n",
    "        next_word_index = list(next_word_probs).index(max(next_word_probs))\n",
    "        # next_word_index = np.random.choice(len(self.vocab), p=next_word_probs)\n",
    "\n",
    "        next_word = list(self.vocab)[next_word_index]\n",
    "\n",
    "        return next_word"
   ]
  },
  {
   "cell_type": "code",
   "execution_count": 94,
   "metadata": {},
   "outputs": [],
   "source": [
    "corpus = open('../Dataset/corpus.txt')\n",
    "dataset = []\n",
    "for i in corpus.readlines():\n",
    "    dataset.append(i)"
   ]
  },
  {
   "cell_type": "code",
   "execution_count": 99,
   "metadata": {},
   "outputs": [
    {
     "name": "stdout",
     "output_type": "stream",
     "text": [
      "[[0.00018416 0.00018416 0.00018416 ... 0.00018416 0.00018416 0.00018416]\n",
      " [0.00018416 0.00018416 0.00018416 ... 0.00018416 0.00018416 0.00018416]\n",
      " [0.00018416 0.00018416 0.00018416 ... 0.00018416 0.00018416 0.00018416]\n",
      " ...\n",
      " [0.00018406 0.00018406 0.00018406 ... 0.00018406 0.00018406 0.00018406]\n",
      " [0.00018416 0.00018416 0.00018416 ... 0.00018416 0.00018416 0.00018416]\n",
      " [0.00018416 0.00018416 0.00018416 ... 0.00018416 0.00018416 0.00018416]]\n"
     ]
    }
   ],
   "source": [
    "model = BigramLM()\n",
    "model.learn_from_dataset(dataset)\n",
    "print(model.bigram_probs)"
   ]
  },
  {
   "cell_type": "code",
   "execution_count": 107,
   "metadata": {},
   "outputs": [
    {
     "data": {
      "text/plain": [
       "['familiarity', 'that', 'i', 'feel', 'like', 'i']"
      ]
     },
     "execution_count": 107,
     "metadata": {},
     "output_type": "execute_result"
    }
   ],
   "source": [
    "current_word = random.choice(model.vocab)\n",
    "generated_sentence = [current_word]\n",
    "\n",
    "for _ in range(5):\n",
    "    current_word = model.generate_next_word(current_word)\n",
    "    generated_sentence.append(current_word)\n",
    "\n",
    "generated_sentence"
   ]
  },
  {
   "cell_type": "code",
   "execution_count": null,
   "metadata": {},
   "outputs": [],
   "source": [
    "emotion_scores(\"i am happy today\")"
   ]
  },
  {
   "cell_type": "code",
   "execution_count": null,
   "metadata": {},
   "outputs": [],
   "source": [
    "import numpy as np\n",
    "from collections import defaultdict\n",
    "\n",
    "class BigramLM:\n",
    "    def __init__(self):\n",
    "        self.vocab = set()\n",
    "        self.bigram_counts = defaultdict(lambda: defaultdict(int))\n",
    "        self.unigram_counts = defaultdict(int)\n",
    "        self.bigram_probs = None\n",
    "        self.emotion_scores = None  # Placeholder for emotion scores\n",
    "\n",
    "    def learn_from_dataset(self, dataset):\n",
    "        for sentence in dataset:\n",
    "            tokens = sentence.split()\n",
    "            for i in range(len(tokens) - 1):\n",
    "                word1, word2 = tokens[i], tokens[i + 1]\n",
    "                self.vocab.add(word1)\n",
    "                self.vocab.add(word2)\n",
    "                self.bigram_counts[word1][word2] += 1\n",
    "                self.unigram_counts[word1] += 1\n",
    "                \n",
    "        self.vocab = list(self.vocab)\n",
    "        self.calculate_bigram_probs()\n",
    "\n",
    "    def calculate_bigram_probs(self, emotion=None, beta=0.0):\n",
    "        num_words = len(self.vocab)\n",
    "        self.bigram_probs = np.zeros((num_words, num_words))\n",
    "        \n",
    "        for i, word1 in enumerate(self.vocab):\n",
    "            for j, word2 in enumerate(self.vocab):\n",
    "                if self.unigram_counts[word1] > 0:\n",
    "                    prob = self.bigram_counts[word1][word2] / self.unigram_counts[word1]\n",
    "                    if emotion:\n",
    "                        prob += beta * self.emotion_scores.get(emotion, 0)\n",
    "                    self.bigram_probs[i][j] = prob\n",
    "\n",
    "    def set_emotion_scores(self, sentence):\n",
    "        # Assuming emotion_scores function is defined elsewhere and imported\n",
    "        scores = emotion_scores(sentence)\n",
    "        self.emotion_scores = {score['label']: score['score'] for score in scores}\n",
    "\n",
    "    def generate_emotion_oriented_sample(self, start_word, emotion, beta=0.1, length=10):\n",
    "        if start_word not in self.vocab:\n",
    "            raise ValueError(f\"The word '{start_word}' is not in the vocabulary.\")\n",
    "        \n",
    "        self.set_emotion_scores(start_word)  # Set emotion scores based on the start word\n",
    "        self.calculate_bigram_probs(emotion, beta)  # Recalculate bigram probabilities with emotion component\n",
    "\n",
    "        current_word = start_word\n",
    "        sentence = [current_word]\n",
    "        for _ in range(length - 1):\n",
    "            current_idx = self.vocab.index(current_word)\n",
    "            probabilities = self.bigram_probs[current_idx]\n",
    "            \n",
    "            next_word_idx = np.random.choice(len(self.vocab), p=probabilities/sum(probabilities))\n",
    "            next_word = self.vocab[next_word_idx]\n",
    "\n",
    "            sentence.append(next_word)\n",
    "            current_word = next_word\n",
    "\n",
    "        return ' '.join(sentence)\n"
   ]
  }
 ],
 "metadata": {
  "kernelspec": {
   "display_name": "Python 3",
   "language": "python",
   "name": "python3"
  },
  "language_info": {
   "codemirror_mode": {
    "name": "ipython",
    "version": 3
   },
   "file_extension": ".py",
   "mimetype": "text/x-python",
   "name": "python",
   "nbconvert_exporter": "python",
   "pygments_lexer": "ipython3",
   "version": "3.11.7"
  }
 },
 "nbformat": 4,
 "nbformat_minor": 2
}
