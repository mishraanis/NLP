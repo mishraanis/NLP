{
 "cells": [
  {
   "cell_type": "code",
   "execution_count": null,
   "metadata": {},
   "outputs": [],
   "source": [
    "import numpy as np\n",
    "\n",
    "class BigramLM:\n",
    "    def __init__(self):\n",
    "        self.vocab = set()\n",
    "        self.bigram_counts = {}\n",
    "        self.bigram_probs = {}\n",
    "\n",
    "    def learn(self, dataset):\n",
    "        # Step 1: Collect vocabulary and count bigrams\n",
    "        for sentence in dataset:\n",
    "            tokens = sentence.split()\n",
    "            for i in range(len(tokens) - 1):\n",
    "                word1 = tokens[i]\n",
    "                word2 = tokens[i + 1]\n",
    "                \n",
    "                # Add words to vocabulary\n",
    "                self.vocab.add(word1)\n",
    "                self.vocab.add(word2)\n",
    "                \n",
    "                # Count bigrams\n",
    "                if word1 in self.bigram_counts:\n",
    "                    if word2 in self.bigram_counts[word1]:\n",
    "                        self.bigram_counts[word1][word2] += 1\n",
    "                    else:\n",
    "                        self.bigram_counts[word1][word2] = 1\n",
    "                else:\n",
    "                    self.bigram_counts[word1] = {word2: 1}\n",
    "\n",
    "        # Step 2: Calculate bigram probabilities\n",
    "        for word1 in self.bigram_counts:\n",
    "            total_count = sum(self.bigram_counts[word1].values())\n",
    "            self.bigram_probs[word1] = {}\n",
    "            for word2 in self.bigram_counts[word1]:\n",
    "                self.bigram_probs[word1][word2] = self.bigram_counts[word1][word2] / total_count\n",
    "\n",
    "    def generate_next_word(self, word):\n",
    "        if word in self.bigram_probs:\n",
    "            next_words = list(self.bigram_probs[word].keys())\n",
    "            probabilities = list(self.bigram_probs[word].values())\n",
    "            next_word = np.random.choice(next_words, p=probabilities)\n",
    "            return next_word\n",
    "        else:\n",
    "            return None\n"
   ]
  }
 ],
 "metadata": {
  "language_info": {
   "name": "python"
  }
 },
 "nbformat": 4,
 "nbformat_minor": 2
}
