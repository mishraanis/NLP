{
 "cells": [
  {
   "cell_type": "code",
   "execution_count": 1,
   "metadata": {},
   "outputs": [],
   "source": [
    "import numpy as np\n",
    "from sklearn.model_selection import train_test_split\n",
    "from sklearn.feature_extraction.text import TfidfVectorizer\n",
    "from sklearn.svm import SVC\n",
    "from sklearn.model_selection import GridSearchCV\n",
    "from sklearn.metrics import accuracy_score, precision_score, recall_score, f1_score\n",
    "import os"
   ]
  },
  {
   "cell_type": "markdown",
   "metadata": {},
   "source": [
    "Finding Best parameters"
   ]
  },
  {
   "cell_type": "code",
   "execution_count": 2,
   "metadata": {},
   "outputs": [],
   "source": [
    "# Load sentences and labels from text files\n",
    "corpus_path = os.path.join('..', 'Dataset', 'corpus.txt')\n",
    "with open(corpus_path, 'r', encoding='utf-8') as f:\n",
    "    sentences = f.readlines()\n",
    "\n",
    "labels_path = os.path.join('..', 'Dataset', 'labels.txt')\n",
    "with open(labels_path, 'r', encoding='utf-8') as f:\n",
    "    labels = f.readlines()"
   ]
  },
  {
   "cell_type": "code",
   "execution_count": 3,
   "metadata": {},
   "outputs": [],
   "source": [
    "# Shuffle the dataset\n",
    "seed = 42  # Set a seed for reproducibility\n",
    "np.random.seed(seed)\n",
    "indices = np.arange(len(sentences))\n",
    "np.random.shuffle(indices)\n",
    "\n",
    "sentences = np.array(sentences)[indices]\n",
    "labels = np.array(labels)[indices]"
   ]
  },
  {
   "cell_type": "code",
   "execution_count": 99,
   "metadata": {},
   "outputs": [],
   "source": [
    "# Split the dataset into training and testing sets\n",
    "X_train, X_test, y_train, y_test = train_test_split(sentences, labels, test_size=0.2, random_state=seed)"
   ]
  },
  {
   "cell_type": "code",
   "execution_count": 100,
   "metadata": {},
   "outputs": [],
   "source": [
    "# TF-IDF Vectorization\n",
    "tfidf_vectorizer = TfidfVectorizer(max_features=1000, stop_words='english')\n",
    "X_train_tfidf = tfidf_vectorizer.fit_transform(X_train)\n",
    "X_test_tfidf = tfidf_vectorizer.transform(X_test)"
   ]
  },
  {
   "cell_type": "code",
   "execution_count": 101,
   "metadata": {},
   "outputs": [
    {
     "name": "stdout",
     "output_type": "stream",
     "text": [
      "Best Parameters: {'C': 1, 'gamma': 100, 'kernel': 'linear'}\n"
     ]
    }
   ],
   "source": [
    "svm_model = SVC()\n",
    "\n",
    "# Grid Search to find the best parameters\n",
    "param_grid = {'C': [0.1, 1, 10, 100], 'gamma': [100, 10, 1, 0.1, 0.01, 0.001], 'kernel': ['linear', 'rbf']}\n",
    "grid_search = GridSearchCV(svm_model, param_grid, cv=5, scoring='accuracy')\n",
    "grid_search.fit(X_train_tfidf, y_train)\n",
    "\n",
    "# Get the best parameters and the best model\n",
    "best_params = grid_search.best_params_\n",
    "best_model = grid_search.best_estimator_\n",
    "\n",
    "# Print the best parameters\n",
    "print(\"Best Parameters:\", best_params)"
   ]
  },
  {
   "cell_type": "code",
   "execution_count": 102,
   "metadata": {},
   "outputs": [
    {
     "name": "stdout",
     "output_type": "stream",
     "text": [
      "Accuracy of the Best Model: 75.42%\n"
     ]
    }
   ],
   "source": [
    "# Use the best model for predictions\n",
    "y_pred = best_model.predict(X_test_tfidf)\n",
    "\n",
    "# Evaluate the accuracy of the best model\n",
    "accuracy = np.mean(y_pred == y_test)\n",
    "print(f\"Accuracy of the Best Model: {accuracy * 100:.2f}%\")\n"
   ]
  },
  {
   "cell_type": "markdown",
   "metadata": {},
   "source": [
    "Using best parameters for Testing Generated Outputs"
   ]
  },
  {
   "cell_type": "markdown",
   "metadata": {},
   "source": [
    "Coeff_1_no"
   ]
  },
  {
   "cell_type": "code",
   "execution_count": 103,
   "metadata": {},
   "outputs": [],
   "source": [
    "#Changing variable names\n",
    "X_train = sentences\n",
    "y_train = [value.strip() for value in labels]"
   ]
  },
  {
   "cell_type": "code",
   "execution_count": 104,
   "metadata": {},
   "outputs": [],
   "source": [
    "test_folder_path = os.path.join('Test Samples', 'coeff_1_no')\n",
    "test_files = os.listdir(test_folder_path)\n",
    "\n",
    "X_test = []\n",
    "y_test = []\n",
    "\n",
    "for test_file in test_files:\n",
    "    file_path = os.path.join(test_folder_path, test_file)\n",
    "    \n",
    "    with open(file_path, 'r', encoding='utf-8') as f:\n",
    "        lines =f.readlines()\n",
    "        X_test.extend(lines)\n",
    "    \n",
    "    # Extract label from the file name\n",
    "    label = test_file.split('_')[1]\n",
    "    for _ in range(50):\n",
    "        y_test.append(label)\n",
    "\n",
    "y_test = [value.replace('.txt', '') for value in y_test]"
   ]
  },
  {
   "cell_type": "code",
   "execution_count": 105,
   "metadata": {},
   "outputs": [],
   "source": [
    "# Shuffle the dataset\n",
    "seed = 42  # Set a seed for reproducibility\n",
    "np.random.seed(seed)\n",
    "indices = np.arange(len(X_test))\n",
    "np.random.shuffle(indices)\n",
    "\n",
    "X_test = np.array(X_test)[indices]\n",
    "y_test = np.array(y_test)[indices]"
   ]
  },
  {
   "cell_type": "code",
   "execution_count": 106,
   "metadata": {},
   "outputs": [],
   "source": [
    "# Create TF-IDF Vectorizer\n",
    "vectorizer = TfidfVectorizer()\n",
    "X_train_tfidf = vectorizer.fit_transform(X_train)\n",
    "X_test_tfidf = vectorizer.transform(X_test)"
   ]
  },
  {
   "cell_type": "code",
   "execution_count": 107,
   "metadata": {},
   "outputs": [],
   "source": [
    "# Create and train SVC\n",
    "svc = SVC(C=1, gamma=100, kernel='linear')\n",
    "svc.fit(X_train_tfidf, y_train)\n",
    "\n",
    "# Predict on the test set\n",
    "y_pred = svc.predict(X_test_tfidf)"
   ]
  },
  {
   "cell_type": "code",
   "execution_count": 109,
   "metadata": {},
   "outputs": [
    {
     "name": "stdout",
     "output_type": "stream",
     "text": [
      "Accuracy: 0.63\n",
      "Precision: 0.644774884783142\n",
      "Recall: 0.6299999999999999\n",
      "F1 Score: 0.6271424275823653\n"
     ]
    }
   ],
   "source": [
    "# Evaluate the model\n",
    "accuracy = np.mean(y_pred == y_test)\n",
    "precision = precision_score(y_test, y_pred, average='macro')\n",
    "recall = recall_score(y_test, y_pred, average='macro')\n",
    "f1 = f1_score(y_test, y_pred, average='macro')\n",
    "\n",
    "# Output the results\n",
    "print(\"Accuracy:\", accuracy)\n",
    "print(\"Precision:\", precision)\n",
    "print(\"Recall:\", recall)\n",
    "print(\"F1 Score:\", f1)"
   ]
  },
  {
   "cell_type": "markdown",
   "metadata": {},
   "source": [
    "Coeff_1_laplace"
   ]
  },
  {
   "cell_type": "code",
   "execution_count": 110,
   "metadata": {},
   "outputs": [],
   "source": [
    "#Changing variable names\n",
    "X_train = sentences\n",
    "y_train = [value.strip() for value in labels]"
   ]
  },
  {
   "cell_type": "code",
   "execution_count": 111,
   "metadata": {},
   "outputs": [],
   "source": [
    "test_folder_path = os.path.join('Test Samples', 'coeff_1_laplace')\n",
    "test_files = os.listdir(test_folder_path)\n",
    "\n",
    "X_test = []\n",
    "y_test = []\n",
    "\n",
    "for test_file in test_files:\n",
    "    file_path = os.path.join(test_folder_path, test_file)\n",
    "    \n",
    "    with open(file_path, 'r', encoding='utf-8') as f:\n",
    "        lines =f.readlines()\n",
    "        X_test.extend(lines)\n",
    "    \n",
    "    # Extract label from the file name\n",
    "    label = test_file.split('_')[1]\n",
    "    for _ in range(50):\n",
    "        y_test.append(label)\n",
    "\n",
    "y_test = [value.replace('.txt', '') for value in y_test]"
   ]
  },
  {
   "cell_type": "code",
   "execution_count": 112,
   "metadata": {},
   "outputs": [],
   "source": [
    "# Shuffle the dataset\n",
    "seed = 42  # Set a seed for reproducibility\n",
    "np.random.seed(seed)\n",
    "indices = np.arange(len(X_test))\n",
    "np.random.shuffle(indices)\n",
    "\n",
    "X_test = np.array(X_test)[indices]\n",
    "y_test = np.array(y_test)[indices]"
   ]
  },
  {
   "cell_type": "code",
   "execution_count": 113,
   "metadata": {},
   "outputs": [],
   "source": [
    "# Create TF-IDF Vectorizer\n",
    "vectorizer = TfidfVectorizer()\n",
    "X_train_tfidf = vectorizer.fit_transform(X_train)\n",
    "X_test_tfidf = vectorizer.transform(X_test)"
   ]
  },
  {
   "cell_type": "code",
   "execution_count": 114,
   "metadata": {},
   "outputs": [],
   "source": [
    "# Create and train SVC\n",
    "svc = SVC(C=1, gamma=100, kernel='linear')\n",
    "svc.fit(X_train_tfidf, y_train)\n",
    "\n",
    "# Predict on the test set\n",
    "y_pred = svc.predict(X_test_tfidf)"
   ]
  },
  {
   "cell_type": "code",
   "execution_count": 115,
   "metadata": {},
   "outputs": [
    {
     "name": "stdout",
     "output_type": "stream",
     "text": [
      "Accuracy: 0.5766666666666667\n",
      "Precision: 0.590503237045141\n",
      "Recall: 0.5766666666666667\n",
      "F1 Score: 0.5771001292913216\n"
     ]
    }
   ],
   "source": [
    "# Evaluate the model\n",
    "accuracy = np.mean(y_pred == y_test)\n",
    "precision = precision_score(y_test, y_pred, average='macro')\n",
    "recall = recall_score(y_test, y_pred, average='macro')\n",
    "f1 = f1_score(y_test, y_pred, average='macro')\n",
    "\n",
    "# Output the results\n",
    "print(\"Accuracy:\", accuracy)\n",
    "print(\"Precision:\", precision)\n",
    "print(\"Recall:\", recall)\n",
    "print(\"F1 Score:\", f1)"
   ]
  },
  {
   "cell_type": "markdown",
   "metadata": {},
   "source": [
    "No beta"
   ]
  },
  {
   "cell_type": "code",
   "execution_count": 4,
   "metadata": {},
   "outputs": [],
   "source": [
    "#Changing variable names\n",
    "X_train = sentences\n",
    "y_train = [value.strip() for value in labels]"
   ]
  },
  {
   "cell_type": "code",
   "execution_count": 10,
   "metadata": {},
   "outputs": [],
   "source": [
    "test_folder_path = os.path.join('Test Samples', 'sample_level')\n",
    "test_files = os.listdir(test_folder_path)\n",
    "\n",
    "X_test = []\n",
    "y_test = []\n",
    "\n",
    "for test_file in test_files:\n",
    "    file_path = os.path.join(test_folder_path, test_file)\n",
    "    \n",
    "    with open(file_path, 'r', encoding='utf-8') as f:\n",
    "        lines =f.readlines()\n",
    "        X_test.extend(lines)\n",
    "    \n",
    "    # Extract label from the file name\n",
    "    label = test_file.split('_')[1]\n",
    "    for _ in range(50):\n",
    "        y_test.append(label)\n",
    "\n",
    "y_test = [value.replace('.txt', '') for value in y_test]"
   ]
  },
  {
   "cell_type": "code",
   "execution_count": 11,
   "metadata": {},
   "outputs": [],
   "source": [
    "# Shuffle the dataset\n",
    "seed = 42  # Set a seed for reproducibility\n",
    "np.random.seed(seed)\n",
    "indices = np.arange(len(X_test))\n",
    "np.random.shuffle(indices)\n",
    "\n",
    "X_test = np.array(X_test)[indices]\n",
    "y_test = np.array(y_test)[indices]"
   ]
  },
  {
   "cell_type": "code",
   "execution_count": 12,
   "metadata": {},
   "outputs": [],
   "source": [
    "# Create TF-IDF Vectorizer\n",
    "vectorizer = TfidfVectorizer()\n",
    "X_train_tfidf = vectorizer.fit_transform(X_train)\n",
    "X_test_tfidf = vectorizer.transform(X_test)"
   ]
  },
  {
   "cell_type": "code",
   "execution_count": 13,
   "metadata": {},
   "outputs": [],
   "source": [
    "# Create and train SVC\n",
    "svc = SVC(C=1, gamma=100, kernel='linear')\n",
    "svc.fit(X_train_tfidf, y_train)\n",
    "\n",
    "# Predict on the test set\n",
    "y_pred = svc.predict(X_test_tfidf)"
   ]
  },
  {
   "cell_type": "code",
   "execution_count": 14,
   "metadata": {},
   "outputs": [
    {
     "name": "stdout",
     "output_type": "stream",
     "text": [
      "Accuracy: 0.15\n",
      "Precision: 0.10647684476039608\n",
      "Recall: 0.15000000000000002\n",
      "F1 Score: 0.10821577523936937\n"
     ]
    }
   ],
   "source": [
    "# Evaluate the model\n",
    "accuracy = np.mean(y_pred == y_test)\n",
    "precision = precision_score(y_test, y_pred, average='macro')\n",
    "recall = recall_score(y_test, y_pred, average='macro')\n",
    "f1 = f1_score(y_test, y_pred, average='macro')\n",
    "\n",
    "# Output the results\n",
    "print(\"Accuracy:\", accuracy)\n",
    "print(\"Precision:\", precision)\n",
    "print(\"Recall:\", recall)\n",
    "print(\"F1 Score:\", f1)"
   ]
  },
  {
   "cell_type": "code",
   "execution_count": null,
   "metadata": {},
   "outputs": [],
   "source": []
  }
 ],
 "metadata": {
  "kernelspec": {
   "display_name": "Python 3",
   "language": "python",
   "name": "python3"
  },
  "language_info": {
   "codemirror_mode": {
    "name": "ipython",
    "version": 3
   },
   "file_extension": ".py",
   "mimetype": "text/x-python",
   "name": "python",
   "nbconvert_exporter": "python",
   "pygments_lexer": "ipython3",
   "version": "3.11.6"
  }
 },
 "nbformat": 4,
 "nbformat_minor": 2
}
