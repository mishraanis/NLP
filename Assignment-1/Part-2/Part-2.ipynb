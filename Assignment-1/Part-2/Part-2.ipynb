{
 "cells": [
  {
   "cell_type": "code",
   "execution_count": 316,
   "metadata": {},
   "outputs": [],
   "source": [
    "import numpy as np\n",
    "from collections import defaultdict\n",
    "import random\n",
    "from utils import emotion_scores\n",
    "import matplotlib.pyplot as plt\n",
    "from tqdm import tqdm\n",
    "import pickle"
   ]
  },
  {
   "cell_type": "code",
   "execution_count": 228,
   "metadata": {},
   "outputs": [],
   "source": [
    "class BigramLM:\n",
    "    def __init__(self, emotion_coeff):\n",
    "        self.vocab = set()\n",
    "        self.bigram_counts = defaultdict(lambda: defaultdict(int))\n",
    "        self.unigram_counts = defaultdict(int)\n",
    "        self.bigram_probs = None\n",
    "        self.beta_values = None\n",
    "        self.emotion_coeff = emotion_coeff\n",
    "        self.emotion_dict = {'sadness': 0, 'joy': 1, 'love': 2, 'anger': 3, 'fear': 4, 'surprise': 5}\n",
    "\n",
    "    def learn_from_dataset(self, dataset):\n",
    "        for sentence in dataset:\n",
    "            tokens = sentence.split()                        \n",
    "            for i in range(len(tokens) - 1):\n",
    "                word1, word2 = tokens[i], tokens[i + 1]\n",
    "                self.vocab.add(word1)\n",
    "                self.vocab.add(word2)\n",
    "                self.bigram_counts[word1][word2] += 1\n",
    "                self.unigram_counts[word1] += 1                            \n",
    "                \n",
    "        self.vocab = list(self.vocab)\n",
    "        print(f\"Vocabulary size: {len(self.vocab)}\")\n",
    "        self.calculate_bigram_probs()\n",
    "\n",
    "    def calculate_bigram_probs(self):\n",
    "        num_words = len(self.vocab)\n",
    "        self.bigram_probs = np.zeros((num_words, num_words))        \n",
    "        self.beta_values = np.zeros((num_words, num_words, 6))\n",
    "        \n",
    "        for i, word1 in tqdm(enumerate(self.vocab)):\n",
    "            for j, word2 in enumerate(self.vocab):\n",
    "                if self.unigram_counts[word1] > 0:\n",
    "                    self.bigram_probs[i][j] = float(self.bigram_counts[word1][word2]) / float(self.unigram_counts[word1])\n",
    "                    if self.bigram_probs[i][j] == 0:\n",
    "                        continue\n",
    "                    emotions = emotion_scores(word1 + \" \" + word2)\n",
    "                    self.beta_values[i][j] = self.emotion_coeff * np.array([emotions[k]['score'] for k in range(6)])\n",
    "                    # for k in range(6):\n",
    "                    #     self.beta_values[i][j][k] = self.emotion_coeff * emotions[k]['score']\n",
    "                    \n",
    "\n",
    "\n",
    "    def calculate_bigram_probs_laplace(self):\n",
    "        num_words = len(self.vocab)\n",
    "        self.bigram_probs = np.zeros((num_words, num_words))\n",
    "\n",
    "        for i, word1 in enumerate(self.vocab):\n",
    "            for j, word2 in enumerate(self.vocab):\n",
    "                self.bigram_probs[i][j] = (self.bigram_counts[word1][word2] + 1) / (self.unigram_counts[word1] + num_words)\n",
    "                emotions = emotion_scores(word1 + \" \" + word2)\n",
    "                # self.beta_values[i][j] = self.emotion_coeff * np.array([emotions[k]['score'] for k in range(6)])\n",
    "                for k in range(6):\n",
    "                    self.beta_values[i][j][k] = self.emotion_coeff * emotions[k]['score']\n",
    "    # KNESER-NEY REMAINS\n",
    "                    \n",
    "    def generate_sentence(self, emotion, max_length=20):\n",
    "        sentence = []\n",
    "        current_word = random.choice(['i', 'im'])\n",
    "        sentence.append(current_word)\n",
    "\n",
    "        for i in range(max_length):\n",
    "            current_word = self.generate_next_word(current_word, emotion)\n",
    "            if current_word == \"\":\n",
    "                break\n",
    "            sentence.append(current_word)\n",
    "        \n",
    "        return \" \".join(sentence)\n",
    "\n",
    "    def generate_next_word(self, current_word, emotion):\n",
    "        if current_word not in self.vocab:\n",
    "            raise ValueError(f\"{current_word} not found in the vocabulary.\")\n",
    "\n",
    "        word_index = self.vocab.index(current_word)\n",
    "        next_word_probs = self.bigram_probs[word_index] + self.beta_values[word_index, :, self.emotion_dict[emotion]]\n",
    "\n",
    "        # next_word_index = list(next_word_probs).index(max(next_word_probs))\n",
    "        try:\n",
    "            next_word_index = random.choices(range(len(next_word_probs)), weights=next_word_probs)[0]\n",
    "        except:\n",
    "            return \"\"\n",
    "\n",
    "        next_word = list(self.vocab)[next_word_index]\n",
    "\n",
    "        return next_word"
   ]
  },
  {
   "cell_type": "code",
   "execution_count": 229,
   "metadata": {},
   "outputs": [],
   "source": [
    "corpus = open('../Dataset/corpus.txt')\n",
    "dataset = []\n",
    "for i in corpus.readlines():\n",
    "    dataset.append(i)"
   ]
  },
  {
   "cell_type": "code",
   "execution_count": 230,
   "metadata": {},
   "outputs": [
    {
     "name": "stdout",
     "output_type": "stream",
     "text": [
      "Vocabulary size: 5429\n"
     ]
    },
    {
     "name": "stderr",
     "output_type": "stream",
     "text": [
      "0it [00:00, ?it/s]"
     ]
    },
    {
     "name": "stderr",
     "output_type": "stream",
     "text": [
      "5429it [08:21, 10.83it/s]"
     ]
    },
    {
     "name": "stdout",
     "output_type": "stream",
     "text": [
      "[[0. 0. 0. ... 0. 0. 0.]\n",
      " [0. 0. 0. ... 0. 0. 0.]\n",
      " [0. 0. 0. ... 0. 0. 0.]\n",
      " ...\n",
      " [0. 0. 0. ... 0. 0. 0.]\n",
      " [0. 0. 0. ... 0. 0. 0.]\n",
      " [0. 0. 0. ... 0. 0. 0.]]\n"
     ]
    },
    {
     "name": "stderr",
     "output_type": "stream",
     "text": [
      "\n"
     ]
    }
   ],
   "source": [
    "model = BigramLM(emotion_coeff=0.1)\n",
    "model.learn_from_dataset(dataset)\n",
    "print(model.bigram_probs)"
   ]
  },
  {
   "cell_type": "code",
   "execution_count": 318,
   "metadata": {},
   "outputs": [],
   "source": [
    "pickle.dump(model.vocab, open('Checkpoints/coeff_0.1_no/vocab.pkl', 'wb'))\n",
    "pickle.dump(model.bigram_probs, open('Checkpoints/coeff_0.1_no/bigram_probs.pkl', 'wb'))\n",
    "pickle.dump(model.beta_values, open('Checkpoints/coeff_0.1_no/beta_values.pkl', 'wb'))"
   ]
  },
  {
   "cell_type": "code",
   "execution_count": 319,
   "metadata": {},
   "outputs": [],
   "source": [
    "# generate 50 sentences for each emotion ansd write to a file with name gen_emotion.txt\n",
    "for emotion in ['sadness', 'joy', 'love', 'anger', 'fear', 'surprise']:\n",
    "    with open('Test Samples/coeff_0.1_no/gen_' + emotion + '.txt', 'w') as f:\n",
    "        for i in range(50):\n",
    "            f.write(model.generate_sentence(emotion) + '\\n')"
   ]
  },
  {
   "cell_type": "code",
   "execution_count": 326,
   "metadata": {},
   "outputs": [
    {
     "name": "stdout",
     "output_type": "stream",
     "text": [
      "sadness: 40\n",
      "joy: 40\n",
      "love: 36\n",
      "anger: 30\n",
      "fear: 33\n",
      "surprise: 36\n"
     ]
    }
   ],
   "source": [
    "count = 0\n",
    "with open('Test Samples/coeff_0.1_no/gen_sadness.txt', 'r') as f:\n",
    "    for line in f.readlines():\n",
    "        score = emotion_scores(line)[model.emotion_dict['sadness']]['score']\n",
    "        \n",
    "        if(score > 0.5):\n",
    "            count += 1\n",
    "\n",
    "print('sadness: ' + str(count))\n",
    "\n",
    "count = 0\n",
    "with open('Test Samples/coeff_0.1_no/gen_joy.txt', 'r') as f:\n",
    "    for line in f.readlines():\n",
    "        score = emotion_scores(line)[model.emotion_dict['joy']]['score']\n",
    "        \n",
    "        if(score > 0.5):\n",
    "            count += 1\n",
    "\n",
    "print('joy: ' + str(count))\n",
    "\n",
    "count = 0\n",
    "with open('Test Samples/coeff_0.1_no/gen_love.txt', 'r') as f:\n",
    "    for line in f.readlines():\n",
    "        score = emotion_scores(line)[model.emotion_dict['love']]['score']\n",
    "        \n",
    "        if(score > 0.5):\n",
    "            count += 1\n",
    "\n",
    "print('love: ' + str(count))\n",
    "\n",
    "count = 0\n",
    "with open('Test Samples/coeff_0.1_no/gen_anger.txt', 'r') as f:\n",
    "    for line in f.readlines():\n",
    "        score = emotion_scores(line)[model.emotion_dict['anger']]['score']\n",
    "        \n",
    "        if(score > 0.5):\n",
    "            count += 1\n",
    "\n",
    "print('anger: ' + str(count))\n",
    "\n",
    "count = 0\n",
    "with open('Test Samples/coeff_0.1_no/gen_fear.txt', 'r') as f:\n",
    "    for line in f.readlines():\n",
    "        score = emotion_scores(line)[model.emotion_dict['fear']]['score']\n",
    "        \n",
    "        if(score > 0.5):\n",
    "            count += 1\n",
    "\n",
    "print('fear: ' + str(count))\n",
    "\n",
    "count = 0\n",
    "with open('Test Samples/coeff_0.1_no/gen_surprise.txt', 'r') as f:\n",
    "    for line in f.readlines():\n",
    "        score = emotion_scores(line)[model.emotion_dict['surprise']]['score']\n",
    "        \n",
    "        if(score > 0.5):\n",
    "            count += 1\n",
    "\n",
    "print('surprise: ' + str(count))\n",
    "\n",
    "\n",
    "        \n"
   ]
  },
  {
   "cell_type": "code",
   "execution_count": null,
   "metadata": {},
   "outputs": [],
   "source": []
  }
 ],
 "metadata": {
  "kernelspec": {
   "display_name": "Python 3",
   "language": "python",
   "name": "python3"
  },
  "language_info": {
   "codemirror_mode": {
    "name": "ipython",
    "version": 3
   },
   "file_extension": ".py",
   "mimetype": "text/x-python",
   "name": "python",
   "nbconvert_exporter": "python",
   "pygments_lexer": "ipython3",
   "version": "3.11.6"
  }
 },
 "nbformat": 4,
 "nbformat_minor": 2
}
