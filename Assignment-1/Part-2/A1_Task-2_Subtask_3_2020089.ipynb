{
 "cells": [
  {
   "cell_type": "code",
   "execution_count": 1,
   "metadata": {},
   "outputs": [
    {
     "name": "stderr",
     "output_type": "stream",
     "text": [
      "C:\\Users\\Dell\\AppData\\Local\\Packages\\PythonSoftwareFoundation.Python.3.11_qbz5n2kfra8p0\\LocalCache\\local-packages\\Python311\\site-packages\\torch\\_utils.py:831: UserWarning: TypedStorage is deprecated. It will be removed in the future and UntypedStorage will be the only storage class. This should only matter to you if you are using storages directly.  To access UntypedStorage directly, use tensor.untyped_storage() instead of tensor.storage()\n",
      "  return self.fget.__get__(instance, owner)()\n",
      "C:\\Users\\Dell\\AppData\\Local\\Packages\\PythonSoftwareFoundation.Python.3.11_qbz5n2kfra8p0\\LocalCache\\local-packages\\Python311\\site-packages\\transformers\\pipelines\\text_classification.py:105: UserWarning: `return_all_scores` is now deprecated,  if want a similar functionality use `top_k=None` instead of `return_all_scores=True` or `top_k=1` instead of `return_all_scores=False`.\n",
      "  warnings.warn(\n"
     ]
    }
   ],
   "source": [
    "import pickle\n",
    "import random\n",
    "from utils import emotion_scores\n",
    "import numpy as np"
   ]
  },
  {
   "cell_type": "code",
   "execution_count": 2,
   "metadata": {},
   "outputs": [],
   "source": [
    "beta_values = pickle.load(open('Checkpoints/beta_values.pkl', 'rb'))\n",
    "bigram_probs = pickle.load(open('Checkpoints/bigram_probs.pkl', 'rb'))\n",
    "bigram_probs_laplace = pickle.load(open('Checkpoints/bigram_probs_laplace.pkl', 'rb'))\n",
    "bigram_probs_kneser = pickle.load(open('Checkpoints/bigram_probs_kneser.pkl', 'rb'))\n",
    "vocab = pickle.load(open('Checkpoints/vocab.pkl', 'rb'))\n",
    "beta_values_sentence = pickle.load(open('Checkpoints/beta_values_sentence.pkl', 'rb'))"
   ]
  },
  {
   "cell_type": "code",
   "execution_count": 3,
   "metadata": {},
   "outputs": [],
   "source": [
    "emotion_dict = {'sadness': 0, 'joy': 1, 'love': 2, 'anger': 3, 'fear': 4, 'surprise': 5}"
   ]
  },
  {
   "cell_type": "code",
   "execution_count": 18,
   "metadata": {},
   "outputs": [],
   "source": [
    "def generate_sentence(emotion, coeff, max_length=20):\n",
    "    sentence = []\n",
    "    current_word = '<SOS>'\n",
    "\n",
    "    for i in range(max_length):\n",
    "        current_word = generate_next_word(current_word, emotion, coeff)\n",
    "        if current_word == \"\" or current_word == '<EOS>':\n",
    "            break\n",
    "        sentence.append(current_word)\n",
    "    \n",
    "    return \" \".join(sentence)\n",
    "\n",
    "def generate_next_word(current_word, emotion, coeff):\n",
    "    if current_word not in vocab:\n",
    "        raise ValueError(f\"{current_word} not found in the vocabulary.\")\n",
    "\n",
    "    word_index = vocab.index(current_word)\n",
    "    if current_word == '<SOS>':\n",
    "        next_word_probs = bigram_probs_kneser[word_index]\n",
    "    else:\n",
    "        next_word_probs = bigram_probs_kneser[word_index] + (coeff * beta_values[word_index, :, emotion_dict[emotion]])\n",
    "        next_word_probs -= np.min(next_word_probs)\n",
    "        next_word_probs /= np.max(next_word_probs)\n",
    "\n",
    "\n",
    "    # next_word_index = list(next_word_probs).index(max(next_word_probs))\n",
    "    try:\n",
    "        next_word_index = random.choices(range(len(next_word_probs)), weights=next_word_probs)[0]\n",
    "    except:\n",
    "        return \"\"\n",
    "\n",
    "    next_word = list(vocab)[next_word_index]\n",
    "\n",
    "    return next_word"
   ]
  },
  {
   "cell_type": "code",
   "execution_count": 17,
   "metadata": {},
   "outputs": [
    {
     "name": "stdout",
     "output_type": "stream",
     "text": [
      "0.9999999999999999\n"
     ]
    },
    {
     "data": {
      "text/plain": [
       "'i am thankful that honestly feel generally more excitment than inspired because im feelin horny'"
      ]
     },
     "execution_count": 17,
     "metadata": {},
     "output_type": "execute_result"
    }
   ],
   "source": [
    "generate_sentence('joy', 0.5)"
   ]
  },
  {
   "cell_type": "markdown",
   "metadata": {},
   "source": [
    "#### sample level beta values"
   ]
  },
  {
   "cell_type": "code",
   "execution_count": 8,
   "metadata": {},
   "outputs": [],
   "source": [
    "for emotion in ['sadness', 'joy', 'love', 'anger', 'fear', 'surprise']:\n",
    "    with open('Test Samples/sample_level/gen_' + emotion + '.txt', 'w') as f:\n",
    "        for i in range(50):\n",
    "            while True:\n",
    "                sentence = generate_sentence(emotion, 1)\n",
    "                if len(sentence.split()) > 6:\n",
    "                    f.write(sentence + '\\n')\n",
    "                    break"
   ]
  },
  {
   "cell_type": "code",
   "execution_count": 9,
   "metadata": {},
   "outputs": [
    {
     "name": "stdout",
     "output_type": "stream",
     "text": [
      "sadness: 4\n",
      "joy: 12\n",
      "love: 1\n",
      "anger: 20\n",
      "fear: 6\n",
      "surprise: 1\n"
     ]
    }
   ],
   "source": [
    "count = 0\n",
    "with open('Test Samples/sample_level/gen_sadness.txt', 'r') as f:\n",
    "    for line in f.readlines():\n",
    "        score = emotion_scores(line)[emotion_dict['sadness']]['score']\n",
    "        \n",
    "        if(score > 0.5):\n",
    "            count += 1\n",
    "\n",
    "print('sadness: ' + str(count))\n",
    "\n",
    "count = 0\n",
    "with open('Test Samples/sample_level/gen_joy.txt', 'r') as f:\n",
    "    for line in f.readlines():\n",
    "        score = emotion_scores(line)[emotion_dict['joy']]['score']\n",
    "        \n",
    "        if(score > 0.5):\n",
    "            count += 1\n",
    "\n",
    "print('joy: ' + str(count))\n",
    "\n",
    "count = 0\n",
    "with open('Test Samples/sample_level/gen_love.txt', 'r') as f:\n",
    "    for line in f.readlines():\n",
    "        score = emotion_scores(line)[emotion_dict['love']]['score']\n",
    "        \n",
    "        if(score > 0.5):\n",
    "            count += 1\n",
    "\n",
    "print('love: ' + str(count))\n",
    "\n",
    "count = 0\n",
    "with open('Test Samples/sample_level/gen_anger.txt', 'r') as f:\n",
    "    for line in f.readlines():\n",
    "        score = emotion_scores(line)[emotion_dict['anger']]['score']\n",
    "        \n",
    "        if(score > 0.5):\n",
    "            count += 1\n",
    "\n",
    "print('anger: ' + str(count))\n",
    "\n",
    "count = 0\n",
    "with open('Test Samples/sample_level/gen_fear.txt', 'r') as f:\n",
    "    for line in f.readlines():\n",
    "        score = emotion_scores(line)[emotion_dict['fear']]['score']\n",
    "        \n",
    "        if(score > 0.5):\n",
    "            count += 1\n",
    "\n",
    "print('fear: ' + str(count))\n",
    "\n",
    "count = 0\n",
    "with open('Test Samples/sample_level/gen_surprise.txt', 'r') as f:\n",
    "    for line in f.readlines():\n",
    "        score = emotion_scores(line)[emotion_dict['surprise']]['score']\n",
    "        \n",
    "        if(score > 0.5):\n",
    "            count += 1\n",
    "\n",
    "print('surprise: ' + str(count))\n",
    "\n",
    "\n",
    "        \n"
   ]
  },
  {
   "cell_type": "markdown",
   "metadata": {},
   "source": [
    "#### Coeff = 0, smoothing = None"
   ]
  },
  {
   "cell_type": "code",
   "execution_count": 11,
   "metadata": {},
   "outputs": [],
   "source": [
    "for emotion in ['sadness', 'joy', 'love', 'anger', 'fear', 'surprise']:\n",
    "    with open('Test Samples/coeff_0_no/gen_' + emotion + '.txt', 'w') as f:\n",
    "        for i in range(50):\n",
    "            while True:\n",
    "                sentence = generate_sentence(emotion, 0)\n",
    "                if len(sentence.split()) > 6:\n",
    "                    f.write(sentence + '\\n')\n",
    "                    break"
   ]
  },
  {
   "cell_type": "code",
   "execution_count": 12,
   "metadata": {},
   "outputs": [
    {
     "name": "stdout",
     "output_type": "stream",
     "text": [
      "sadness: 8\n",
      "joy: 18\n",
      "love: 9\n",
      "anger: 9\n",
      "fear: 4\n",
      "surprise: 6\n"
     ]
    }
   ],
   "source": [
    "count = 0\n",
    "with open('Test Samples/coeff_0_no/gen_sadness.txt', 'r') as f:\n",
    "    for line in f.readlines():\n",
    "        score = emotion_scores(line)[emotion_dict['sadness']]['score']\n",
    "        \n",
    "        if(score > 0.5):\n",
    "            count += 1\n",
    "\n",
    "print('sadness: ' + str(count))\n",
    "\n",
    "count = 0\n",
    "with open('Test Samples/coeff_0_no/gen_joy.txt', 'r') as f:\n",
    "    for line in f.readlines():\n",
    "        score = emotion_scores(line)[emotion_dict['joy']]['score']\n",
    "        \n",
    "        if(score > 0.5):\n",
    "            count += 1\n",
    "\n",
    "print('joy: ' + str(count))\n",
    "\n",
    "count = 0\n",
    "with open('Test Samples/coeff_0_no/gen_love.txt', 'r') as f:\n",
    "    for line in f.readlines():\n",
    "        score = emotion_scores(line)[emotion_dict['love']]['score']\n",
    "        \n",
    "        if(score > 0.5):\n",
    "            count += 1\n",
    "\n",
    "print('love: ' + str(count))\n",
    "\n",
    "count = 0\n",
    "with open('Test Samples/coeff_0_no/gen_anger.txt', 'r') as f:\n",
    "    for line in f.readlines():\n",
    "        score = emotion_scores(line)[emotion_dict['anger']]['score']\n",
    "        \n",
    "        if(score > 0.5):\n",
    "            count += 1\n",
    "\n",
    "print('anger: ' + str(count))\n",
    "\n",
    "count = 0\n",
    "with open('Test Samples/coeff_0_no/gen_fear.txt', 'r') as f:\n",
    "    for line in f.readlines():\n",
    "        score = emotion_scores(line)[emotion_dict['fear']]['score']\n",
    "        \n",
    "        if(score > 0.5):\n",
    "            count += 1\n",
    "\n",
    "print('fear: ' + str(count))\n",
    "\n",
    "count = 0\n",
    "with open('Test Samples/coeff_0_no/gen_surprise.txt', 'r') as f:\n",
    "    for line in f.readlines():\n",
    "        score = emotion_scores(line)[emotion_dict['surprise']]['score']\n",
    "        \n",
    "        if(score > 0.5):\n",
    "            count += 1\n",
    "\n",
    "print('surprise: ' + str(count))\n",
    "\n",
    "\n",
    "        \n"
   ]
  },
  {
   "cell_type": "markdown",
   "metadata": {},
   "source": [
    "#### Coeff = 1, smoothing = None"
   ]
  },
  {
   "cell_type": "code",
   "execution_count": 13,
   "metadata": {},
   "outputs": [],
   "source": [
    "for emotion in ['sadness', 'joy', 'love', 'anger', 'fear', 'surprise']:\n",
    "    with open('Test Samples/coeff_1_no/gen_' + emotion + '.txt', 'w') as f:\n",
    "        for i in range(50):\n",
    "            while True:\n",
    "                sentence = generate_sentence(emotion, 1)\n",
    "                if len(sentence.split()) > 6:\n",
    "                    f.write(sentence + '\\n')\n",
    "                    break"
   ]
  },
  {
   "cell_type": "code",
   "execution_count": 14,
   "metadata": {},
   "outputs": [
    {
     "name": "stdout",
     "output_type": "stream",
     "text": [
      "sadness: 41\n",
      "joy: 41\n",
      "love: 47\n",
      "anger: 33\n",
      "fear: 31\n",
      "surprise: 41\n"
     ]
    }
   ],
   "source": [
    "count = 0\n",
    "with open('Test Samples/coeff_1_no/gen_sadness.txt', 'r') as f:\n",
    "    for line in f.readlines():\n",
    "        score = emotion_scores(line)[emotion_dict['sadness']]['score']\n",
    "        \n",
    "        if(score > 0.5):\n",
    "            count += 1\n",
    "\n",
    "print('sadness: ' + str(count))\n",
    "\n",
    "count = 0\n",
    "with open('Test Samples/coeff_1_no/gen_joy.txt', 'r') as f:\n",
    "    for line in f.readlines():\n",
    "        score = emotion_scores(line)[emotion_dict['joy']]['score']\n",
    "        \n",
    "        if(score > 0.5):\n",
    "            count += 1\n",
    "\n",
    "print('joy: ' + str(count))\n",
    "\n",
    "count = 0\n",
    "with open('Test Samples/coeff_1_no/gen_love.txt', 'r') as f:\n",
    "    for line in f.readlines():\n",
    "        score = emotion_scores(line)[emotion_dict['love']]['score']\n",
    "        \n",
    "        if(score > 0.5):\n",
    "            count += 1\n",
    "\n",
    "print('love: ' + str(count))\n",
    "\n",
    "count = 0\n",
    "with open('Test Samples/coeff_1_no/gen_anger.txt', 'r') as f:\n",
    "    for line in f.readlines():\n",
    "        score = emotion_scores(line)[emotion_dict['anger']]['score']\n",
    "        \n",
    "        if(score > 0.5):\n",
    "            count += 1\n",
    "\n",
    "print('anger: ' + str(count))\n",
    "\n",
    "count = 0\n",
    "with open('Test Samples/coeff_1_no/gen_fear.txt', 'r') as f:\n",
    "    for line in f.readlines():\n",
    "        score = emotion_scores(line)[emotion_dict['fear']]['score']\n",
    "        \n",
    "        if(score > 0.5):\n",
    "            count += 1\n",
    "\n",
    "print('fear: ' + str(count))\n",
    "\n",
    "count = 0\n",
    "with open('Test Samples/coeff_1_no/gen_surprise.txt', 'r') as f:\n",
    "    for line in f.readlines():\n",
    "        score = emotion_scores(line)[emotion_dict['surprise']]['score']\n",
    "        \n",
    "        if(score > 0.5):\n",
    "            count += 1\n",
    "\n",
    "print('surprise: ' + str(count))\n",
    "\n",
    "\n",
    "        \n"
   ]
  },
  {
   "cell_type": "markdown",
   "metadata": {},
   "source": [
    "#### Coeff = 1, smoothing = laplace"
   ]
  },
  {
   "cell_type": "code",
   "execution_count": 16,
   "metadata": {},
   "outputs": [],
   "source": [
    "for emotion in ['sadness', 'joy', 'love', 'anger', 'fear', 'surprise']:\n",
    "    with open('Test Samples/coeff_1_laplace/gen_' + emotion + '.txt', 'w') as f:\n",
    "        for i in range(50):\n",
    "            while True:\n",
    "                sentence = generate_sentence(emotion, 1)\n",
    "                if len(sentence.split()) > 6:\n",
    "                    f.write(sentence + '\\n')\n",
    "                    break"
   ]
  },
  {
   "cell_type": "code",
   "execution_count": 17,
   "metadata": {},
   "outputs": [
    {
     "name": "stdout",
     "output_type": "stream",
     "text": [
      "sadness: 48\n",
      "joy: 41\n",
      "love: 46\n",
      "anger: 38\n",
      "fear: 36\n",
      "surprise: 44\n"
     ]
    }
   ],
   "source": [
    "count = 0\n",
    "with open('Test Samples/coeff_1_laplace/gen_sadness.txt', 'r') as f:\n",
    "    for line in f.readlines():\n",
    "        score = emotion_scores(line)[emotion_dict['sadness']]['score']\n",
    "        \n",
    "        if(score > 0.5):\n",
    "            count += 1\n",
    "\n",
    "print('sadness: ' + str(count))\n",
    "\n",
    "count = 0\n",
    "with open('Test Samples/coeff_1_laplace/gen_joy.txt', 'r') as f:\n",
    "    for line in f.readlines():\n",
    "        score = emotion_scores(line)[emotion_dict['joy']]['score']\n",
    "        \n",
    "        if(score > 0.5):\n",
    "            count += 1\n",
    "\n",
    "print('joy: ' + str(count))\n",
    "\n",
    "count = 0\n",
    "with open('Test Samples/coeff_1_laplace/gen_love.txt', 'r') as f:\n",
    "    for line in f.readlines():\n",
    "        score = emotion_scores(line)[emotion_dict['love']]['score']\n",
    "        \n",
    "        if(score > 0.5):\n",
    "            count += 1\n",
    "\n",
    "print('love: ' + str(count))\n",
    "\n",
    "count = 0\n",
    "with open('Test Samples/coeff_1_laplace/gen_anger.txt', 'r') as f:\n",
    "    for line in f.readlines():\n",
    "        score = emotion_scores(line)[emotion_dict['anger']]['score']\n",
    "        \n",
    "        if(score > 0.5):\n",
    "            count += 1\n",
    "\n",
    "print('anger: ' + str(count))\n",
    "\n",
    "count = 0\n",
    "with open('Test Samples/coeff_1_laplace/gen_fear.txt', 'r') as f:\n",
    "    for line in f.readlines():\n",
    "        score = emotion_scores(line)[emotion_dict['fear']]['score']\n",
    "        \n",
    "        if(score > 0.5):\n",
    "            count += 1\n",
    "\n",
    "print('fear: ' + str(count))\n",
    "\n",
    "count = 0\n",
    "with open('Test Samples/coeff_1_laplace/gen_surprise.txt', 'r') as f:\n",
    "    for line in f.readlines():\n",
    "        score = emotion_scores(line)[emotion_dict['surprise']]['score']\n",
    "        \n",
    "        if(score > 0.5):\n",
    "            count += 1\n",
    "\n",
    "print('surprise: ' + str(count))\n",
    "\n",
    "\n",
    "        \n"
   ]
  },
  {
   "cell_type": "markdown",
   "metadata": {},
   "source": [
    "#### Coeff = 1, smoothing = kneser ney"
   ]
  },
  {
   "cell_type": "code",
   "execution_count": 20,
   "metadata": {},
   "outputs": [],
   "source": [
    "for emotion in ['sadness', 'joy', 'love', 'anger', 'fear', 'surprise']:\n",
    "    with open('Test Samples/coeff_1_kneser/gen_' + emotion + '.txt', 'w') as f:\n",
    "        for i in range(50):\n",
    "            while True:\n",
    "                sentence = generate_sentence(emotion, 1)\n",
    "                if len(sentence.split()) > 6:\n",
    "                    f.write(sentence + '\\n')\n",
    "                    break"
   ]
  },
  {
   "cell_type": "code",
   "execution_count": 21,
   "metadata": {},
   "outputs": [
    {
     "name": "stdout",
     "output_type": "stream",
     "text": [
      "sadness: 19\n",
      "joy: 32\n",
      "love: 17\n",
      "anger: 33\n",
      "fear: 22\n",
      "surprise: 30\n"
     ]
    }
   ],
   "source": [
    "count = 0\n",
    "with open('Test Samples/coeff_1_kneser/gen_sadness.txt', 'r') as f:\n",
    "    for line in f.readlines():\n",
    "        score = emotion_scores(line)[emotion_dict['sadness']]['score']\n",
    "        \n",
    "        if(score > 0.5):\n",
    "            count += 1\n",
    "\n",
    "print('sadness: ' + str(count))\n",
    "\n",
    "count = 0\n",
    "with open('Test Samples/coeff_1_kneser/gen_joy.txt', 'r') as f:\n",
    "    for line in f.readlines():\n",
    "        score = emotion_scores(line)[emotion_dict['joy']]['score']\n",
    "        \n",
    "        if(score > 0.5):\n",
    "            count += 1\n",
    "\n",
    "print('joy: ' + str(count))\n",
    "\n",
    "count = 0\n",
    "with open('Test Samples/coeff_1_kneser/gen_love.txt', 'r') as f:\n",
    "    for line in f.readlines():\n",
    "        score = emotion_scores(line)[emotion_dict['love']]['score']\n",
    "        \n",
    "        if(score > 0.5):\n",
    "            count += 1\n",
    "\n",
    "print('love: ' + str(count))\n",
    "\n",
    "count = 0\n",
    "with open('Test Samples/coeff_1_kneser/gen_anger.txt', 'r') as f:\n",
    "    for line in f.readlines():\n",
    "        score = emotion_scores(line)[emotion_dict['anger']]['score']\n",
    "        \n",
    "        if(score > 0.5):\n",
    "            count += 1\n",
    "\n",
    "print('anger: ' + str(count))\n",
    "\n",
    "count = 0\n",
    "with open('Test Samples/coeff_1_kneser/gen_fear.txt', 'r') as f:\n",
    "    for line in f.readlines():\n",
    "        score = emotion_scores(line)[emotion_dict['fear']]['score']\n",
    "        \n",
    "        if(score > 0.5):\n",
    "            count += 1\n",
    "\n",
    "print('fear: ' + str(count))\n",
    "\n",
    "count = 0\n",
    "with open('Test Samples/coeff_1_kneser/gen_surprise.txt', 'r') as f:\n",
    "    for line in f.readlines():\n",
    "        score = emotion_scores(line)[emotion_dict['surprise']]['score']\n",
    "        \n",
    "        if(score > 0.5):\n",
    "            count += 1\n",
    "\n",
    "print('surprise: ' + str(count))\n",
    "\n",
    "\n",
    "        \n"
   ]
  },
  {
   "cell_type": "code",
   "execution_count": null,
   "metadata": {},
   "outputs": [],
   "source": []
  }
 ],
 "metadata": {
  "kernelspec": {
   "display_name": "Python 3",
   "language": "python",
   "name": "python3"
  },
  "language_info": {
   "codemirror_mode": {
    "name": "ipython",
    "version": 3
   },
   "file_extension": ".py",
   "mimetype": "text/x-python",
   "name": "python",
   "nbconvert_exporter": "python",
   "pygments_lexer": "ipython3",
   "version": "3.11.6"
  }
 },
 "nbformat": 4,
 "nbformat_minor": 2
}
